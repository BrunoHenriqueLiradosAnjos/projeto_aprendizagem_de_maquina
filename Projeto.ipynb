{
 "cells": [
  {
   "cell_type": "markdown",
   "id": "14e58f61",
   "metadata": {},
   "source": [
    "**TO DO**\n",
    "- Colocar SVM\n",
    "- Colocar Matriz de Confusão Média\n",
    "- Colocar AUC para todos os casos\n",
    "- Colocar P value entre todos"
   ]
  },
  {
   "cell_type": "code",
   "execution_count": 49,
   "id": "1d824c5e",
   "metadata": {},
   "outputs": [],
   "source": [
    "import pandas as pd\n",
    "import seaborn as sns\n",
    "import numpy as np\n",
    "import matplotlib.pyplot as plt\n",
    "\n",
    "from scipy import stats\n",
    "\n",
    "from sklearn.model_selection import StratifiedKFold\n",
    "from sklearn.tree import DecisionTreeClassifier\n",
    "from sklearn.neighbors import KNeighborsClassifier\n",
    "from sklearn.metrics import classification_report\n",
    "from sklearn.neural_network import MLPClassifier\n",
    "from sklearn.naive_bayes import GaussianNB\n",
    "from sklearn.linear_model import LogisticRegression\n",
    "from sklearn.metrics import f1_score, balanced_accuracy_score, accuracy_score\n",
    "from sklearn.model_selection import GridSearchCV\n",
    "from sklearn.metrics import confusion_matrix, plot_confusion_matrix"
   ]
  },
  {
   "cell_type": "code",
   "execution_count": 50,
   "id": "656debf1",
   "metadata": {},
   "outputs": [
    {
     "data": {
      "text/html": [
       "<div>\n",
       "<style scoped>\n",
       "    .dataframe tbody tr th:only-of-type {\n",
       "        vertical-align: middle;\n",
       "    }\n",
       "\n",
       "    .dataframe tbody tr th {\n",
       "        vertical-align: top;\n",
       "    }\n",
       "\n",
       "    .dataframe thead th {\n",
       "        text-align: right;\n",
       "    }\n",
       "</style>\n",
       "<table border=\"1\" class=\"dataframe\">\n",
       "  <thead>\n",
       "    <tr style=\"text-align: right;\">\n",
       "      <th></th>\n",
       "      <th>Wifes_age</th>\n",
       "      <th>Wifes_education</th>\n",
       "      <th>Husbands_education</th>\n",
       "      <th>Number_of_children_ever_born</th>\n",
       "      <th>Wifes_religion</th>\n",
       "      <th>Wifes_now_working%3F</th>\n",
       "      <th>Husbands_occupation</th>\n",
       "      <th>Standard-of-living_index</th>\n",
       "      <th>Media_exposure</th>\n",
       "      <th>Contraceptive_method_used</th>\n",
       "    </tr>\n",
       "  </thead>\n",
       "  <tbody>\n",
       "    <tr>\n",
       "      <th>0</th>\n",
       "      <td>24</td>\n",
       "      <td>2</td>\n",
       "      <td>3</td>\n",
       "      <td>3</td>\n",
       "      <td>1</td>\n",
       "      <td>1</td>\n",
       "      <td>2</td>\n",
       "      <td>3</td>\n",
       "      <td>0</td>\n",
       "      <td>1</td>\n",
       "    </tr>\n",
       "    <tr>\n",
       "      <th>1</th>\n",
       "      <td>45</td>\n",
       "      <td>1</td>\n",
       "      <td>3</td>\n",
       "      <td>10</td>\n",
       "      <td>1</td>\n",
       "      <td>1</td>\n",
       "      <td>3</td>\n",
       "      <td>4</td>\n",
       "      <td>0</td>\n",
       "      <td>1</td>\n",
       "    </tr>\n",
       "    <tr>\n",
       "      <th>2</th>\n",
       "      <td>43</td>\n",
       "      <td>2</td>\n",
       "      <td>3</td>\n",
       "      <td>7</td>\n",
       "      <td>1</td>\n",
       "      <td>1</td>\n",
       "      <td>3</td>\n",
       "      <td>4</td>\n",
       "      <td>0</td>\n",
       "      <td>1</td>\n",
       "    </tr>\n",
       "    <tr>\n",
       "      <th>3</th>\n",
       "      <td>42</td>\n",
       "      <td>3</td>\n",
       "      <td>2</td>\n",
       "      <td>9</td>\n",
       "      <td>1</td>\n",
       "      <td>1</td>\n",
       "      <td>3</td>\n",
       "      <td>3</td>\n",
       "      <td>0</td>\n",
       "      <td>1</td>\n",
       "    </tr>\n",
       "    <tr>\n",
       "      <th>4</th>\n",
       "      <td>36</td>\n",
       "      <td>3</td>\n",
       "      <td>3</td>\n",
       "      <td>8</td>\n",
       "      <td>1</td>\n",
       "      <td>1</td>\n",
       "      <td>3</td>\n",
       "      <td>2</td>\n",
       "      <td>0</td>\n",
       "      <td>1</td>\n",
       "    </tr>\n",
       "    <tr>\n",
       "      <th>...</th>\n",
       "      <td>...</td>\n",
       "      <td>...</td>\n",
       "      <td>...</td>\n",
       "      <td>...</td>\n",
       "      <td>...</td>\n",
       "      <td>...</td>\n",
       "      <td>...</td>\n",
       "      <td>...</td>\n",
       "      <td>...</td>\n",
       "      <td>...</td>\n",
       "    </tr>\n",
       "    <tr>\n",
       "      <th>1468</th>\n",
       "      <td>33</td>\n",
       "      <td>4</td>\n",
       "      <td>4</td>\n",
       "      <td>2</td>\n",
       "      <td>1</td>\n",
       "      <td>0</td>\n",
       "      <td>2</td>\n",
       "      <td>4</td>\n",
       "      <td>0</td>\n",
       "      <td>3</td>\n",
       "    </tr>\n",
       "    <tr>\n",
       "      <th>1469</th>\n",
       "      <td>33</td>\n",
       "      <td>4</td>\n",
       "      <td>4</td>\n",
       "      <td>3</td>\n",
       "      <td>1</td>\n",
       "      <td>1</td>\n",
       "      <td>1</td>\n",
       "      <td>4</td>\n",
       "      <td>0</td>\n",
       "      <td>3</td>\n",
       "    </tr>\n",
       "    <tr>\n",
       "      <th>1470</th>\n",
       "      <td>39</td>\n",
       "      <td>3</td>\n",
       "      <td>3</td>\n",
       "      <td>8</td>\n",
       "      <td>1</td>\n",
       "      <td>0</td>\n",
       "      <td>1</td>\n",
       "      <td>4</td>\n",
       "      <td>0</td>\n",
       "      <td>3</td>\n",
       "    </tr>\n",
       "    <tr>\n",
       "      <th>1471</th>\n",
       "      <td>33</td>\n",
       "      <td>3</td>\n",
       "      <td>3</td>\n",
       "      <td>4</td>\n",
       "      <td>1</td>\n",
       "      <td>0</td>\n",
       "      <td>2</td>\n",
       "      <td>2</td>\n",
       "      <td>0</td>\n",
       "      <td>3</td>\n",
       "    </tr>\n",
       "    <tr>\n",
       "      <th>1472</th>\n",
       "      <td>17</td>\n",
       "      <td>3</td>\n",
       "      <td>3</td>\n",
       "      <td>1</td>\n",
       "      <td>1</td>\n",
       "      <td>1</td>\n",
       "      <td>2</td>\n",
       "      <td>4</td>\n",
       "      <td>0</td>\n",
       "      <td>3</td>\n",
       "    </tr>\n",
       "  </tbody>\n",
       "</table>\n",
       "<p>1473 rows × 10 columns</p>\n",
       "</div>"
      ],
      "text/plain": [
       "      Wifes_age  Wifes_education  Husbands_education  \\\n",
       "0            24                2                   3   \n",
       "1            45                1                   3   \n",
       "2            43                2                   3   \n",
       "3            42                3                   2   \n",
       "4            36                3                   3   \n",
       "...         ...              ...                 ...   \n",
       "1468         33                4                   4   \n",
       "1469         33                4                   4   \n",
       "1470         39                3                   3   \n",
       "1471         33                3                   3   \n",
       "1472         17                3                   3   \n",
       "\n",
       "      Number_of_children_ever_born  Wifes_religion  Wifes_now_working%3F  \\\n",
       "0                                3               1                     1   \n",
       "1                               10               1                     1   \n",
       "2                                7               1                     1   \n",
       "3                                9               1                     1   \n",
       "4                                8               1                     1   \n",
       "...                            ...             ...                   ...   \n",
       "1468                             2               1                     0   \n",
       "1469                             3               1                     1   \n",
       "1470                             8               1                     0   \n",
       "1471                             4               1                     0   \n",
       "1472                             1               1                     1   \n",
       "\n",
       "      Husbands_occupation  Standard-of-living_index  Media_exposure  \\\n",
       "0                       2                         3               0   \n",
       "1                       3                         4               0   \n",
       "2                       3                         4               0   \n",
       "3                       3                         3               0   \n",
       "4                       3                         2               0   \n",
       "...                   ...                       ...             ...   \n",
       "1468                    2                         4               0   \n",
       "1469                    1                         4               0   \n",
       "1470                    1                         4               0   \n",
       "1471                    2                         2               0   \n",
       "1472                    2                         4               0   \n",
       "\n",
       "      Contraceptive_method_used  \n",
       "0                             1  \n",
       "1                             1  \n",
       "2                             1  \n",
       "3                             1  \n",
       "4                             1  \n",
       "...                         ...  \n",
       "1468                          3  \n",
       "1469                          3  \n",
       "1470                          3  \n",
       "1471                          3  \n",
       "1472                          3  \n",
       "\n",
       "[1473 rows x 10 columns]"
      ]
     },
     "execution_count": 50,
     "metadata": {},
     "output_type": "execute_result"
    }
   ],
   "source": [
    "df = pd.read_csv(\"dataset_23_cmc.csv\")\n",
    "df"
   ]
  },
  {
   "cell_type": "code",
   "execution_count": 51,
   "id": "867bfeea",
   "metadata": {},
   "outputs": [
    {
     "name": "stdout",
     "output_type": "stream",
     "text": [
      "<class 'pandas.core.frame.DataFrame'>\n",
      "RangeIndex: 1473 entries, 0 to 1472\n",
      "Data columns (total 10 columns):\n",
      " #   Column                        Non-Null Count  Dtype\n",
      "---  ------                        --------------  -----\n",
      " 0   Wifes_age                     1473 non-null   int64\n",
      " 1   Wifes_education               1473 non-null   int64\n",
      " 2   Husbands_education            1473 non-null   int64\n",
      " 3   Number_of_children_ever_born  1473 non-null   int64\n",
      " 4   Wifes_religion                1473 non-null   int64\n",
      " 5   Wifes_now_working%3F          1473 non-null   int64\n",
      " 6   Husbands_occupation           1473 non-null   int64\n",
      " 7   Standard-of-living_index      1473 non-null   int64\n",
      " 8   Media_exposure                1473 non-null   int64\n",
      " 9   Contraceptive_method_used     1473 non-null   int64\n",
      "dtypes: int64(10)\n",
      "memory usage: 115.2 KB\n"
     ]
    }
   ],
   "source": [
    "df.info()"
   ]
  },
  {
   "cell_type": "code",
   "execution_count": 52,
   "id": "f0492b7c",
   "metadata": {},
   "outputs": [],
   "source": [
    "target = \"Contraceptive_method_used\""
   ]
  },
  {
   "cell_type": "code",
   "execution_count": 53,
   "id": "e200a349",
   "metadata": {},
   "outputs": [
    {
     "data": {
      "image/png": "[encoded data removed]",
      "text/plain": [
       "<Figure size 432x288 with 1 Axes>"
      ]
     },
     "metadata": {
      "needs_background": "light"
     },
     "output_type": "display_data"
    }
   ],
   "source": [
    "sns.countplot(x = df[target]);\n"
   ]
  },
  {
   "cell_type": "markdown",
   "id": "389bf031",
   "metadata": {},
   "source": [
    "**Balanceamento**"
   ]
  },
  {
   "cell_type": "code",
   "execution_count": 54,
   "id": "c58867c9",
   "metadata": {},
   "outputs": [],
   "source": [
    "#sample_max = df[df[target] == 2].shape[0]\n",
    "#df_aux = pd.DataFrame()\n",
    "#df_aux = pd.concat([df_aux, df.loc[df[(df[\"Contraceptive_method_used\"]==2)].sample(n=sample_max, random_state = 1).index]])\n",
    "#df_aux = pd.concat([df_aux, df.loc[df[(df[\"Contraceptive_method_used\"]==1)].sample(n=sample_max, random_state = 1).index]])\n",
    "#df_aux = pd.concat([df_aux, df.loc[df[(df[\"Contraceptive_method_used\"]==3)].sample(n=sample_max, random_state = 1).index]])\n",
    "#df = df_aux"
   ]
  },
  {
   "cell_type": "code",
   "execution_count": 55,
   "id": "ea8d6a98",
   "metadata": {},
   "outputs": [
    {
     "data": {
      "image/png": "[encoded data removed]",
      "text/plain": [
       "<Figure size 432x288 with 1 Axes>"
      ]
     },
     "metadata": {
      "needs_background": "light"
     },
     "output_type": "display_data"
    }
   ],
   "source": [
    "sns.countplot(x = df[target]);"
   ]
  },
  {
   "cell_type": "code",
   "execution_count": 56,
   "id": "57b1a1d2",
   "metadata": {},
   "outputs": [],
   "source": [
    "#normalized_df = df"
   ]
  },
  {
   "cell_type": "markdown",
   "id": "d0122ed7",
   "metadata": {},
   "source": [
    "**Normalização entre 0 - 1**"
   ]
  },
  {
   "cell_type": "code",
   "execution_count": 57,
   "id": "7cc54e3b",
   "metadata": {
    "scrolled": false
   },
   "outputs": [
    {
     "data": {
      "text/html": [
       "<div>\n",
       "<style scoped>\n",
       "    .dataframe tbody tr th:only-of-type {\n",
       "        vertical-align: middle;\n",
       "    }\n",
       "\n",
       "    .dataframe tbody tr th {\n",
       "        vertical-align: top;\n",
       "    }\n",
       "\n",
       "    .dataframe thead th {\n",
       "        text-align: right;\n",
       "    }\n",
       "</style>\n",
       "<table border=\"1\" class=\"dataframe\">\n",
       "  <thead>\n",
       "    <tr style=\"text-align: right;\">\n",
       "      <th></th>\n",
       "      <th>Wifes_age</th>\n",
       "      <th>Wifes_education</th>\n",
       "      <th>Husbands_education</th>\n",
       "      <th>Number_of_children_ever_born</th>\n",
       "      <th>Wifes_religion</th>\n",
       "      <th>Wifes_now_working%3F</th>\n",
       "      <th>Husbands_occupation</th>\n",
       "      <th>Standard-of-living_index</th>\n",
       "      <th>Media_exposure</th>\n",
       "      <th>Contraceptive_method_used</th>\n",
       "    </tr>\n",
       "  </thead>\n",
       "  <tbody>\n",
       "    <tr>\n",
       "      <th>0</th>\n",
       "      <td>0.242424</td>\n",
       "      <td>0.333333</td>\n",
       "      <td>0.666667</td>\n",
       "      <td>0.1875</td>\n",
       "      <td>1.0</td>\n",
       "      <td>1.0</td>\n",
       "      <td>0.333333</td>\n",
       "      <td>0.666667</td>\n",
       "      <td>0.0</td>\n",
       "      <td>1</td>\n",
       "    </tr>\n",
       "    <tr>\n",
       "      <th>1</th>\n",
       "      <td>0.878788</td>\n",
       "      <td>0.000000</td>\n",
       "      <td>0.666667</td>\n",
       "      <td>0.6250</td>\n",
       "      <td>1.0</td>\n",
       "      <td>1.0</td>\n",
       "      <td>0.666667</td>\n",
       "      <td>1.000000</td>\n",
       "      <td>0.0</td>\n",
       "      <td>1</td>\n",
       "    </tr>\n",
       "    <tr>\n",
       "      <th>2</th>\n",
       "      <td>0.818182</td>\n",
       "      <td>0.333333</td>\n",
       "      <td>0.666667</td>\n",
       "      <td>0.4375</td>\n",
       "      <td>1.0</td>\n",
       "      <td>1.0</td>\n",
       "      <td>0.666667</td>\n",
       "      <td>1.000000</td>\n",
       "      <td>0.0</td>\n",
       "      <td>1</td>\n",
       "    </tr>\n",
       "    <tr>\n",
       "      <th>3</th>\n",
       "      <td>0.787879</td>\n",
       "      <td>0.666667</td>\n",
       "      <td>0.333333</td>\n",
       "      <td>0.5625</td>\n",
       "      <td>1.0</td>\n",
       "      <td>1.0</td>\n",
       "      <td>0.666667</td>\n",
       "      <td>0.666667</td>\n",
       "      <td>0.0</td>\n",
       "      <td>1</td>\n",
       "    </tr>\n",
       "    <tr>\n",
       "      <th>4</th>\n",
       "      <td>0.606061</td>\n",
       "      <td>0.666667</td>\n",
       "      <td>0.666667</td>\n",
       "      <td>0.5000</td>\n",
       "      <td>1.0</td>\n",
       "      <td>1.0</td>\n",
       "      <td>0.666667</td>\n",
       "      <td>0.333333</td>\n",
       "      <td>0.0</td>\n",
       "      <td>1</td>\n",
       "    </tr>\n",
       "    <tr>\n",
       "      <th>...</th>\n",
       "      <td>...</td>\n",
       "      <td>...</td>\n",
       "      <td>...</td>\n",
       "      <td>...</td>\n",
       "      <td>...</td>\n",
       "      <td>...</td>\n",
       "      <td>...</td>\n",
       "      <td>...</td>\n",
       "      <td>...</td>\n",
       "      <td>...</td>\n",
       "    </tr>\n",
       "    <tr>\n",
       "      <th>1468</th>\n",
       "      <td>0.515152</td>\n",
       "      <td>1.000000</td>\n",
       "      <td>1.000000</td>\n",
       "      <td>0.1250</td>\n",
       "      <td>1.0</td>\n",
       "      <td>0.0</td>\n",
       "      <td>0.333333</td>\n",
       "      <td>1.000000</td>\n",
       "      <td>0.0</td>\n",
       "      <td>3</td>\n",
       "    </tr>\n",
       "    <tr>\n",
       "      <th>1469</th>\n",
       "      <td>0.515152</td>\n",
       "      <td>1.000000</td>\n",
       "      <td>1.000000</td>\n",
       "      <td>0.1875</td>\n",
       "      <td>1.0</td>\n",
       "      <td>1.0</td>\n",
       "      <td>0.000000</td>\n",
       "      <td>1.000000</td>\n",
       "      <td>0.0</td>\n",
       "      <td>3</td>\n",
       "    </tr>\n",
       "    <tr>\n",
       "      <th>1470</th>\n",
       "      <td>0.696970</td>\n",
       "      <td>0.666667</td>\n",
       "      <td>0.666667</td>\n",
       "      <td>0.5000</td>\n",
       "      <td>1.0</td>\n",
       "      <td>0.0</td>\n",
       "      <td>0.000000</td>\n",
       "      <td>1.000000</td>\n",
       "      <td>0.0</td>\n",
       "      <td>3</td>\n",
       "    </tr>\n",
       "    <tr>\n",
       "      <th>1471</th>\n",
       "      <td>0.515152</td>\n",
       "      <td>0.666667</td>\n",
       "      <td>0.666667</td>\n",
       "      <td>0.2500</td>\n",
       "      <td>1.0</td>\n",
       "      <td>0.0</td>\n",
       "      <td>0.333333</td>\n",
       "      <td>0.333333</td>\n",
       "      <td>0.0</td>\n",
       "      <td>3</td>\n",
       "    </tr>\n",
       "    <tr>\n",
       "      <th>1472</th>\n",
       "      <td>0.030303</td>\n",
       "      <td>0.666667</td>\n",
       "      <td>0.666667</td>\n",
       "      <td>0.0625</td>\n",
       "      <td>1.0</td>\n",
       "      <td>1.0</td>\n",
       "      <td>0.333333</td>\n",
       "      <td>1.000000</td>\n",
       "      <td>0.0</td>\n",
       "      <td>3</td>\n",
       "    </tr>\n",
       "  </tbody>\n",
       "</table>\n",
       "<p>1473 rows × 10 columns</p>\n",
       "</div>"
      ],
      "text/plain": [
       "      Wifes_age  Wifes_education  Husbands_education  \\\n",
       "0      0.242424         0.333333            0.666667   \n",
       "1      0.878788         0.000000            0.666667   \n",
       "2      0.818182         0.333333            0.666667   \n",
       "3      0.787879         0.666667            0.333333   \n",
       "4      0.606061         0.666667            0.666667   \n",
       "...         ...              ...                 ...   \n",
       "1468   0.515152         1.000000            1.000000   \n",
       "1469   0.515152         1.000000            1.000000   \n",
       "1470   0.696970         0.666667            0.666667   \n",
       "1471   0.515152         0.666667            0.666667   \n",
       "1472   0.030303         0.666667            0.666667   \n",
       "\n",
       "      Number_of_children_ever_born  Wifes_religion  Wifes_now_working%3F  \\\n",
       "0                           0.1875             1.0                   1.0   \n",
       "1                           0.6250             1.0                   1.0   \n",
       "2                           0.4375             1.0                   1.0   \n",
       "3                           0.5625             1.0                   1.0   \n",
       "4                           0.5000             1.0                   1.0   \n",
       "...                            ...             ...                   ...   \n",
       "1468                        0.1250             1.0                   0.0   \n",
       "1469                        0.1875             1.0                   1.0   \n",
       "1470                        0.5000             1.0                   0.0   \n",
       "1471                        0.2500             1.0                   0.0   \n",
       "1472                        0.0625             1.0                   1.0   \n",
       "\n",
       "      Husbands_occupation  Standard-of-living_index  Media_exposure  \\\n",
       "0                0.333333                  0.666667             0.0   \n",
       "1                0.666667                  1.000000             0.0   \n",
       "2                0.666667                  1.000000             0.0   \n",
       "3                0.666667                  0.666667             0.0   \n",
       "4                0.666667                  0.333333             0.0   \n",
       "...                   ...                       ...             ...   \n",
       "1468             0.333333                  1.000000             0.0   \n",
       "1469             0.000000                  1.000000             0.0   \n",
       "1470             0.000000                  1.000000             0.0   \n",
       "1471             0.333333                  0.333333             0.0   \n",
       "1472             0.333333                  1.000000             0.0   \n",
       "\n",
       "      Contraceptive_method_used  \n",
       "0                             1  \n",
       "1                             1  \n",
       "2                             1  \n",
       "3                             1  \n",
       "4                             1  \n",
       "...                         ...  \n",
       "1468                          3  \n",
       "1469                          3  \n",
       "1470                          3  \n",
       "1471                          3  \n",
       "1472                          3  \n",
       "\n",
       "[1473 rows x 10 columns]"
      ]
     },
     "execution_count": 57,
     "metadata": {},
     "output_type": "execute_result"
    }
   ],
   "source": [
    "#normlizando 0 - 1\n",
    "normalized_df = pd.DataFrame()\n",
    "for i in df.columns:\n",
    "    if i != target:\n",
    "        normalized_df[i]=(df[i]-df[i].min())/(df[i].max()-df[i].min())\n",
    "    else:\n",
    "        normalized_df[i] = df[i]\n",
    "        \n",
    "normalized_df"
   ]
  },
  {
   "cell_type": "markdown",
   "id": "206e51c1",
   "metadata": {},
   "source": [
    "**EXPERIMENTO**"
   ]
  },
  {
   "cell_type": "code",
   "execution_count": 58,
   "id": "840b0e42",
   "metadata": {},
   "outputs": [],
   "source": [
    "def classificador(model,X_train, X_test,y_train, y_test):\n",
    "    \n",
    "    model.fit(X_train, y_train)\n",
    "    #utilizando acuracia balanceada\n",
    "    new_row = {\"ACC\":balanced_accuracy_score(y_test, model.predict(X_test)),\"F1\":f1_score(y_test, model.predict(X_test), average='weighted') }\n",
    "    matrix_confusao = confusion_matrix(y_test,model.predict(X_test))\n",
    "\n",
    "\n",
    "\n",
    "    return (new_row, matrix_confusao)\n",
    "\n",
    "#Mudar para plotar a matriz de confusão média\n",
    "def plotMatrizConfusao(matriz_list):\n",
    "    sum = [[0,0,0],[0,0,0],[0,0,0]]\n",
    "    for i in range(len(matriz_list)):\n",
    "        sum = sum + matriz_list[i]\n",
    "        \n",
    "            \n",
    "    sns.heatmap(sum/len(matriz_list), annot=True)\n",
    "    "
   ]
  },
  {
   "cell_type": "code",
   "execution_count": 59,
   "id": "b6dc6bf9",
   "metadata": {},
   "outputs": [],
   "source": [
    "def otimizadorDeHype(name,X_train,y_train):\n",
    "    cv = 3\n",
    "    if name=='knn':\n",
    "        limite_superior = 100\n",
    "        limite_inferior = 1 \n",
    "        limite = list(range(limite_inferior,limite_superior))\n",
    "        #Parametros a serem escolhidos\n",
    "        params = {'n_neighbors':limite, 'metric':['euclidean','manhattan']}\n",
    "        #istanciando \n",
    "        gridS = GridSearchCV(KNeighborsClassifier(),params,cv=cv,n_jobs=-1,scoring='accuracy')\n",
    "        #treinando o grid \n",
    "        grid_result = gridS.fit(X_train,y_train)\n",
    "        return KNeighborsClassifier(metric = grid_result.best_params_['metric'],\n",
    "                                    n_neighbors = grid_result.best_params_['n_neighbors']  )\n",
    "    \n",
    "    if name== 'mlp':\n",
    "        mlp = MLPClassifier(max_iter=1000)\n",
    "\n",
    "        params = {\n",
    "            'hidden_layer_sizes': [(8,8),(316,16),(32,32), (32,64), (64,128)],\n",
    "            'activation': ['tanh', 'relu'],\n",
    "            'solver':['sgd','adam'],\n",
    "            'alpha':[0.0001, 0.05],\n",
    "            'learning_rate': ['constante','adaptive'],\n",
    "        }\n",
    "\n",
    "        gridS = GridSearchCV(mlp,params,n_jobs=-1,cv=cv,scoring='accuracy')\n",
    "        \n",
    "        grid_result = gridS.fit(X_train,y_train)\n",
    "        return MLPClassifier(hidden_layer_sizes=grid_result.best_params_['hidden_layer_sizes'], \n",
    "                    activation=grid_result.best_params_['activation'], solver=grid_result.best_params_['solver'],\n",
    "                    alpha=grid_result.best_params_['alpha'],\n",
    "                    learning_rate=grid_result.best_params_['learning_rate'], max_iter=100000)\n",
    "    if name == 'df':\n",
    "        \n",
    "        df = DecisionTreeClassifier()\n",
    "        params = {'max_leaf_nodes': list(range(2, 100)), 'min_samples_split': list(range(2, 10)),\n",
    "                  'max_depth':list(range(2, 15)),'criterion':[\"gini\", \"entropy\"]}\n",
    "        \n",
    "        gridS = GridSearchCV(df,params,cv=cv,n_jobs=-1,scoring='accuracy')\n",
    "        \n",
    "        grid_result = gridS.fit(X_train,y_train)\n",
    "        return DecisionTreeClassifier(max_leaf_nodes = grid_result.best_params_['max_leaf_nodes'],\n",
    "                                      min_samples_split=grid_result.best_params_['min_samples_split'] ,\n",
    "                                     max_depth=  grid_result.best_params_['max_depth'],\n",
    "                                     criterion = grid_result.best_params_['criterion'])\n",
    "    if name == \"nb\":\n",
    "        \n",
    "        nb = GaussianNB()\n",
    "        \n",
    "        params = {'var_smoothing': np.logspace(0,-9, num=100)}\n",
    "        \n",
    "        gridS = GridSearchCV(nb,params,cv=cv,n_jobs=-1,scoring='accuracy')\n",
    "        \n",
    "        grid_result = gridS.fit(X_train,y_train)\n",
    "        return GaussianNB(var_smoothing=grid_result.best_params_['var_smoothing'])\n",
    "    \n",
    "    if name == \"reg\":\n",
    "        \n",
    "        reg = LogisticRegression(solver='liblinear')\n",
    "        \n",
    "        params = {'penalty': ['l1','l2'], 'C': [0.001,0.01,0.1,1,10,100,1000]}\n",
    "        \n",
    "        gridS = GridSearchCV(reg,params,cv=cv,n_jobs=-1,scoring='accuracy')\n",
    "        \n",
    "        grid_result = gridS.fit(X_train,y_train)\n",
    "        \n",
    "        return LogisticRegression(solver='liblinear', penalty=grid_result.best_params_['penalty'])\n",
    "        "
   ]
  },
  {
   "cell_type": "code",
   "execution_count": 60,
   "id": "7e1f07dc",
   "metadata": {},
   "outputs": [],
   "source": [
    "X = normalized_df.drop(target, axis=1).values\n",
    "y = normalized_df[target].values\n",
    "splits_kfold = 10"
   ]
  },
  {
   "cell_type": "code",
   "execution_count": 61,
   "id": "85252cde",
   "metadata": {},
   "outputs": [],
   "source": [
    "\n",
    "kf = StratifiedKFold(n_splits=splits_kfold)\n",
    "kf.get_n_splits(X,y)\n",
    "\n",
    "metrics = [\"ACC\",\"F1\"]\n",
    "\n",
    "\n",
    "matriz_knn = []\n",
    "matriz_tree = []\n",
    "matriz_mlp = []\n",
    "matriz_nb = []\n",
    "matriz_reg_log = []\n",
    "\n",
    "df_knn = pd.DataFrame(columns=metrics)\n",
    "df_tree = pd.DataFrame(columns=metrics)\n",
    "df_mlp = pd.DataFrame(columns=metrics)\n",
    "df_nb = pd.DataFrame(columns=metrics)\n",
    "df_reg_log = pd.DataFrame(columns=metrics)\n",
    "\n",
    "\n",
    "\n",
    "for train_index, test_index in kf.split(X,y):\n",
    "    \n",
    "    X_train, X_test = X[train_index], X[test_index]\n",
    "    y_train, y_test = y[train_index], y[test_index]\n",
    "    \n",
    "\n",
    "    model = otimizadorDeHype(\"knn\",X_train,y_train)\n",
    "    line, matrix = classificador(model,X_train, X_test,y_train, y_test)\n",
    "    df_knn = df_knn.append(line, ignore_index=True)\n",
    "    matriz_knn.append(matrix)\n",
    "    \n",
    "     \n",
    "        \n",
    "    model = otimizadorDeHype(\"df\",X_train,y_train)\n",
    "    line, matrix = classificador(model,X_train, X_test,y_train, y_test)\n",
    "    df_tree = df_tree.append(line, ignore_index=True)\n",
    "    matriz_tree.append(matrix)   \n",
    "    \n",
    "    \n",
    "    \n",
    "    model = otimizadorDeHype(\"mlp\",X_train,y_train)\n",
    "    line, matrix = classificador(model,X_train, X_test,y_train, y_test)\n",
    "    df_mlp = df_mlp.append(line, ignore_index=True)\n",
    "    matriz_mlp.append(matrix)  \n",
    "    \n",
    "    \n",
    "    model = otimizadorDeHype(\"nb\",X_train,y_train)\n",
    "    line, matrix = classificador(model,X_train, X_test,y_train, y_test)\n",
    "    df_nb = df_nb.append(line, ignore_index=True)\n",
    "    matriz_nb.append(matrix) \n",
    "    \n",
    "    \n",
    "    model = otimizadorDeHype(\"reg\",X_train,y_train)\n",
    "    line, matrix = classificador(model,X_train, X_test,y_train, y_test)\n",
    "    df_reg_log = df_reg_log.append(line, ignore_index=True)\n",
    "    matriz_reg_log.append(matrix)\n",
    "    \n",
    "    "
   ]
  },
  {
   "cell_type": "markdown",
   "id": "6b00cadb",
   "metadata": {},
   "source": [
    "To better assess our results, we have used the Kruskal Wallis non-parametric test to determine whether there was a significant\n",
    "difference in the three groups (MMIGAN, Pix2pix, and Cyclegan). The test was done in all metrics used in this work (MAE,\n",
    "PSNR, MI, and SSIM). After the Kruskal Wallis test, we performed the Dunn’s test for multiple comparisons between the pairs\n",
    "of groups to determine which ones differed significantly (p <0.05)."
   ]
  },
  {
   "cell_type": "markdown",
   "id": "c89aab00",
   "metadata": {},
   "source": [
    "**KNN Resultados**"
   ]
  },
  {
   "cell_type": "code",
   "execution_count": 63,
   "id": "32c993f8",
   "metadata": {},
   "outputs": [
    {
     "data": {
      "text/html": [
       "<div>\n",
       "<style scoped>\n",
       "    .dataframe tbody tr th:only-of-type {\n",
       "        vertical-align: middle;\n",
       "    }\n",
       "\n",
       "    .dataframe tbody tr th {\n",
       "        vertical-align: top;\n",
       "    }\n",
       "\n",
       "    .dataframe thead th {\n",
       "        text-align: right;\n",
       "    }\n",
       "</style>\n",
       "<table border=\"1\" class=\"dataframe\">\n",
       "  <thead>\n",
       "    <tr style=\"text-align: right;\">\n",
       "      <th></th>\n",
       "      <th>ACC</th>\n",
       "      <th>F1</th>\n",
       "    </tr>\n",
       "  </thead>\n",
       "  <tbody>\n",
       "    <tr>\n",
       "      <th>0</th>\n",
       "      <td>0.436041</td>\n",
       "      <td>0.453440</td>\n",
       "    </tr>\n",
       "    <tr>\n",
       "      <th>1</th>\n",
       "      <td>0.538904</td>\n",
       "      <td>0.549662</td>\n",
       "    </tr>\n",
       "    <tr>\n",
       "      <th>2</th>\n",
       "      <td>0.416491</td>\n",
       "      <td>0.435822</td>\n",
       "    </tr>\n",
       "    <tr>\n",
       "      <th>3</th>\n",
       "      <td>0.493337</td>\n",
       "      <td>0.520661</td>\n",
       "    </tr>\n",
       "    <tr>\n",
       "      <th>4</th>\n",
       "      <td>0.460770</td>\n",
       "      <td>0.478666</td>\n",
       "    </tr>\n",
       "    <tr>\n",
       "      <th>5</th>\n",
       "      <td>0.521772</td>\n",
       "      <td>0.492576</td>\n",
       "    </tr>\n",
       "    <tr>\n",
       "      <th>6</th>\n",
       "      <td>0.541776</td>\n",
       "      <td>0.553529</td>\n",
       "    </tr>\n",
       "    <tr>\n",
       "      <th>7</th>\n",
       "      <td>0.513256</td>\n",
       "      <td>0.548205</td>\n",
       "    </tr>\n",
       "    <tr>\n",
       "      <th>8</th>\n",
       "      <td>0.495289</td>\n",
       "      <td>0.509002</td>\n",
       "    </tr>\n",
       "    <tr>\n",
       "      <th>9</th>\n",
       "      <td>0.435589</td>\n",
       "      <td>0.442692</td>\n",
       "    </tr>\n",
       "  </tbody>\n",
       "</table>\n",
       "</div>"
      ],
      "text/plain": [
       "        ACC        F1\n",
       "0  0.436041  0.453440\n",
       "1  0.538904  0.549662\n",
       "2  0.416491  0.435822\n",
       "3  0.493337  0.520661\n",
       "4  0.460770  0.478666\n",
       "5  0.521772  0.492576\n",
       "6  0.541776  0.553529\n",
       "7  0.513256  0.548205\n",
       "8  0.495289  0.509002\n",
       "9  0.435589  0.442692"
      ]
     },
     "execution_count": 63,
     "metadata": {},
     "output_type": "execute_result"
    }
   ],
   "source": [
    "df_knn"
   ]
  },
  {
   "cell_type": "code",
   "execution_count": 64,
   "id": "7f6cfb7f",
   "metadata": {},
   "outputs": [
    {
     "data": {
      "text/plain": [
       "(ACC    0.485323\n",
       " F1     0.498426\n",
       " dtype: float64,\n",
       " ACC    0.045428\n",
       " F1     0.044993\n",
       " dtype: float64)"
      ]
     },
     "execution_count": 64,
     "metadata": {},
     "output_type": "execute_result"
    }
   ],
   "source": [
    "df_knn.mean(),df_knn.std()"
   ]
  },
  {
   "cell_type": "markdown",
   "id": "bb9e652c",
   "metadata": {},
   "source": [
    "Plot das matrizes de confusão"
   ]
  },
  {
   "cell_type": "code",
   "execution_count": 65,
   "id": "22e79044",
   "metadata": {},
   "outputs": [
    {
     "data": {
      "image/png": "[encoded data removed]",
      "text/plain": [
       "<Figure size 432x288 with 2 Axes>"
      ]
     },
     "metadata": {
      "needs_background": "light"
     },
     "output_type": "display_data"
    }
   ],
   "source": [
    "plotMatrizConfusao(matriz_knn)"
   ]
  },
  {
   "cell_type": "markdown",
   "id": "c0b81d34",
   "metadata": {},
   "source": [
    "**DT Resutaldos**"
   ]
  },
  {
   "cell_type": "code",
   "execution_count": 66,
   "id": "c02c140c",
   "metadata": {},
   "outputs": [
    {
     "data": {
      "text/html": [
       "<div>\n",
       "<style scoped>\n",
       "    .dataframe tbody tr th:only-of-type {\n",
       "        vertical-align: middle;\n",
       "    }\n",
       "\n",
       "    .dataframe tbody tr th {\n",
       "        vertical-align: top;\n",
       "    }\n",
       "\n",
       "    .dataframe thead th {\n",
       "        text-align: right;\n",
       "    }\n",
       "</style>\n",
       "<table border=\"1\" class=\"dataframe\">\n",
       "  <thead>\n",
       "    <tr style=\"text-align: right;\">\n",
       "      <th></th>\n",
       "      <th>ACC</th>\n",
       "      <th>F1</th>\n",
       "    </tr>\n",
       "  </thead>\n",
       "  <tbody>\n",
       "    <tr>\n",
       "      <th>0</th>\n",
       "      <td>0.532213</td>\n",
       "      <td>0.563948</td>\n",
       "    </tr>\n",
       "    <tr>\n",
       "      <th>1</th>\n",
       "      <td>0.495176</td>\n",
       "      <td>0.520816</td>\n",
       "    </tr>\n",
       "    <tr>\n",
       "      <th>2</th>\n",
       "      <td>0.491370</td>\n",
       "      <td>0.496519</td>\n",
       "    </tr>\n",
       "    <tr>\n",
       "      <th>3</th>\n",
       "      <td>0.514953</td>\n",
       "      <td>0.535989</td>\n",
       "    </tr>\n",
       "    <tr>\n",
       "      <th>4</th>\n",
       "      <td>0.542314</td>\n",
       "      <td>0.570012</td>\n",
       "    </tr>\n",
       "    <tr>\n",
       "      <th>5</th>\n",
       "      <td>0.523102</td>\n",
       "      <td>0.531075</td>\n",
       "    </tr>\n",
       "    <tr>\n",
       "      <th>6</th>\n",
       "      <td>0.573494</td>\n",
       "      <td>0.580182</td>\n",
       "    </tr>\n",
       "    <tr>\n",
       "      <th>7</th>\n",
       "      <td>0.489177</td>\n",
       "      <td>0.520657</td>\n",
       "    </tr>\n",
       "    <tr>\n",
       "      <th>8</th>\n",
       "      <td>0.539513</td>\n",
       "      <td>0.568382</td>\n",
       "    </tr>\n",
       "    <tr>\n",
       "      <th>9</th>\n",
       "      <td>0.560299</td>\n",
       "      <td>0.581488</td>\n",
       "    </tr>\n",
       "  </tbody>\n",
       "</table>\n",
       "</div>"
      ],
      "text/plain": [
       "        ACC        F1\n",
       "0  0.532213  0.563948\n",
       "1  0.495176  0.520816\n",
       "2  0.491370  0.496519\n",
       "3  0.514953  0.535989\n",
       "4  0.542314  0.570012\n",
       "5  0.523102  0.531075\n",
       "6  0.573494  0.580182\n",
       "7  0.489177  0.520657\n",
       "8  0.539513  0.568382\n",
       "9  0.560299  0.581488"
      ]
     },
     "execution_count": 66,
     "metadata": {},
     "output_type": "execute_result"
    }
   ],
   "source": [
    "df_tree"
   ]
  },
  {
   "cell_type": "code",
   "execution_count": 67,
   "id": "a33b83ac",
   "metadata": {},
   "outputs": [
    {
     "data": {
      "text/plain": [
       "(ACC    0.526161\n",
       " F1     0.546907\n",
       " dtype: float64,\n",
       " ACC    0.028973\n",
       " F1     0.029565\n",
       " dtype: float64)"
      ]
     },
     "execution_count": 67,
     "metadata": {},
     "output_type": "execute_result"
    }
   ],
   "source": [
    "df_tree.mean(),df_tree.std()"
   ]
  },
  {
   "cell_type": "code",
   "execution_count": 68,
   "id": "51f7ffd1",
   "metadata": {},
   "outputs": [
    {
     "data": {
      "image/png": "[encoded data removed]",
      "text/plain": [
       "<Figure size 432x288 with 2 Axes>"
      ]
     },
     "metadata": {
      "needs_background": "light"
     },
     "output_type": "display_data"
    }
   ],
   "source": [
    "plotMatrizConfusao(matriz_tree)"
   ]
  },
  {
   "cell_type": "markdown",
   "id": "72c4ed5b",
   "metadata": {},
   "source": [
    "**Multilayer Perceptron Resultados**"
   ]
  },
  {
   "cell_type": "code",
   "execution_count": 69,
   "id": "2a976042",
   "metadata": {},
   "outputs": [
    {
     "data": {
      "text/html": [
       "<div>\n",
       "<style scoped>\n",
       "    .dataframe tbody tr th:only-of-type {\n",
       "        vertical-align: middle;\n",
       "    }\n",
       "\n",
       "    .dataframe tbody tr th {\n",
       "        vertical-align: top;\n",
       "    }\n",
       "\n",
       "    .dataframe thead th {\n",
       "        text-align: right;\n",
       "    }\n",
       "</style>\n",
       "<table border=\"1\" class=\"dataframe\">\n",
       "  <thead>\n",
       "    <tr style=\"text-align: right;\">\n",
       "      <th></th>\n",
       "      <th>ACC</th>\n",
       "      <th>F1</th>\n",
       "    </tr>\n",
       "  </thead>\n",
       "  <tbody>\n",
       "    <tr>\n",
       "      <th>0</th>\n",
       "      <td>0.548086</td>\n",
       "      <td>0.571849</td>\n",
       "    </tr>\n",
       "    <tr>\n",
       "      <th>1</th>\n",
       "      <td>0.537660</td>\n",
       "      <td>0.547051</td>\n",
       "    </tr>\n",
       "    <tr>\n",
       "      <th>2</th>\n",
       "      <td>0.536232</td>\n",
       "      <td>0.560921</td>\n",
       "    </tr>\n",
       "    <tr>\n",
       "      <th>3</th>\n",
       "      <td>0.465665</td>\n",
       "      <td>0.497100</td>\n",
       "    </tr>\n",
       "    <tr>\n",
       "      <th>4</th>\n",
       "      <td>0.557876</td>\n",
       "      <td>0.585320</td>\n",
       "    </tr>\n",
       "    <tr>\n",
       "      <th>5</th>\n",
       "      <td>0.550491</td>\n",
       "      <td>0.561371</td>\n",
       "    </tr>\n",
       "    <tr>\n",
       "      <th>6</th>\n",
       "      <td>0.606655</td>\n",
       "      <td>0.622401</td>\n",
       "    </tr>\n",
       "    <tr>\n",
       "      <th>7</th>\n",
       "      <td>0.546530</td>\n",
       "      <td>0.577118</td>\n",
       "    </tr>\n",
       "    <tr>\n",
       "      <th>8</th>\n",
       "      <td>0.500637</td>\n",
       "      <td>0.525321</td>\n",
       "    </tr>\n",
       "    <tr>\n",
       "      <th>9</th>\n",
       "      <td>0.565149</td>\n",
       "      <td>0.560109</td>\n",
       "    </tr>\n",
       "  </tbody>\n",
       "</table>\n",
       "</div>"
      ],
      "text/plain": [
       "        ACC        F1\n",
       "0  0.548086  0.571849\n",
       "1  0.537660  0.547051\n",
       "2  0.536232  0.560921\n",
       "3  0.465665  0.497100\n",
       "4  0.557876  0.585320\n",
       "5  0.550491  0.561371\n",
       "6  0.606655  0.622401\n",
       "7  0.546530  0.577118\n",
       "8  0.500637  0.525321\n",
       "9  0.565149  0.560109"
      ]
     },
     "execution_count": 69,
     "metadata": {},
     "output_type": "execute_result"
    }
   ],
   "source": [
    "df_mlp"
   ]
  },
  {
   "cell_type": "code",
   "execution_count": 70,
   "id": "d4ad246f",
   "metadata": {},
   "outputs": [
    {
     "data": {
      "text/plain": [
       "(ACC    0.541498\n",
       " F1     0.560856\n",
       " dtype: float64,\n",
       " ACC    0.037543\n",
       " F1     0.033814\n",
       " dtype: float64)"
      ]
     },
     "execution_count": 70,
     "metadata": {},
     "output_type": "execute_result"
    }
   ],
   "source": [
    "df_mlp.mean(),df_mlp.std()"
   ]
  },
  {
   "cell_type": "code",
   "execution_count": 71,
   "id": "94576add",
   "metadata": {},
   "outputs": [
    {
     "data": {
      "image/png": "[encoded data removed]",
      "text/plain": [
       "<Figure size 432x288 with 2 Axes>"
      ]
     },
     "metadata": {
      "needs_background": "light"
     },
     "output_type": "display_data"
    }
   ],
   "source": [
    "plotMatrizConfusao(matriz_mlp)"
   ]
  },
  {
   "cell_type": "markdown",
   "id": "234eef09",
   "metadata": {},
   "source": [
    "**Naive Bayes Resultados**"
   ]
  },
  {
   "cell_type": "code",
   "execution_count": 72,
   "id": "9bd32446",
   "metadata": {},
   "outputs": [
    {
     "data": {
      "text/html": [
       "<div>\n",
       "<style scoped>\n",
       "    .dataframe tbody tr th:only-of-type {\n",
       "        vertical-align: middle;\n",
       "    }\n",
       "\n",
       "    .dataframe tbody tr th {\n",
       "        vertical-align: top;\n",
       "    }\n",
       "\n",
       "    .dataframe thead th {\n",
       "        text-align: right;\n",
       "    }\n",
       "</style>\n",
       "<table border=\"1\" class=\"dataframe\">\n",
       "  <thead>\n",
       "    <tr style=\"text-align: right;\">\n",
       "      <th></th>\n",
       "      <th>ACC</th>\n",
       "      <th>F1</th>\n",
       "    </tr>\n",
       "  </thead>\n",
       "  <tbody>\n",
       "    <tr>\n",
       "      <th>0</th>\n",
       "      <td>0.484283</td>\n",
       "      <td>0.494408</td>\n",
       "    </tr>\n",
       "    <tr>\n",
       "      <th>1</th>\n",
       "      <td>0.501245</td>\n",
       "      <td>0.458903</td>\n",
       "    </tr>\n",
       "    <tr>\n",
       "      <th>2</th>\n",
       "      <td>0.413124</td>\n",
       "      <td>0.392321</td>\n",
       "    </tr>\n",
       "    <tr>\n",
       "      <th>3</th>\n",
       "      <td>0.504117</td>\n",
       "      <td>0.495326</td>\n",
       "    </tr>\n",
       "    <tr>\n",
       "      <th>4</th>\n",
       "      <td>0.504513</td>\n",
       "      <td>0.465233</td>\n",
       "    </tr>\n",
       "    <tr>\n",
       "      <th>5</th>\n",
       "      <td>0.484735</td>\n",
       "      <td>0.445338</td>\n",
       "    </tr>\n",
       "    <tr>\n",
       "      <th>6</th>\n",
       "      <td>0.466033</td>\n",
       "      <td>0.473127</td>\n",
       "    </tr>\n",
       "    <tr>\n",
       "      <th>7</th>\n",
       "      <td>0.482924</td>\n",
       "      <td>0.510943</td>\n",
       "    </tr>\n",
       "    <tr>\n",
       "      <th>8</th>\n",
       "      <td>0.429647</td>\n",
       "      <td>0.421573</td>\n",
       "    </tr>\n",
       "    <tr>\n",
       "      <th>9</th>\n",
       "      <td>0.429686</td>\n",
       "      <td>0.433429</td>\n",
       "    </tr>\n",
       "  </tbody>\n",
       "</table>\n",
       "</div>"
      ],
      "text/plain": [
       "        ACC        F1\n",
       "0  0.484283  0.494408\n",
       "1  0.501245  0.458903\n",
       "2  0.413124  0.392321\n",
       "3  0.504117  0.495326\n",
       "4  0.504513  0.465233\n",
       "5  0.484735  0.445338\n",
       "6  0.466033  0.473127\n",
       "7  0.482924  0.510943\n",
       "8  0.429647  0.421573\n",
       "9  0.429686  0.433429"
      ]
     },
     "execution_count": 72,
     "metadata": {},
     "output_type": "execute_result"
    }
   ],
   "source": [
    "df_nb"
   ]
  },
  {
   "cell_type": "code",
   "execution_count": 73,
   "id": "189988e6",
   "metadata": {},
   "outputs": [
    {
     "data": {
      "text/plain": [
       "(ACC    0.470031\n",
       " F1     0.459060\n",
       " dtype: float64,\n",
       " ACC    0.034032\n",
       " F1     0.036814\n",
       " dtype: float64)"
      ]
     },
     "execution_count": 73,
     "metadata": {},
     "output_type": "execute_result"
    }
   ],
   "source": [
    "df_nb.mean(),df_nb.std()"
   ]
  },
  {
   "cell_type": "code",
   "execution_count": 74,
   "id": "dd71a4fa",
   "metadata": {},
   "outputs": [
    {
     "data": {
      "image/png": "[encoded data removed]",
      "text/plain": [
       "<Figure size 432x288 with 2 Axes>"
      ]
     },
     "metadata": {
      "needs_background": "light"
     },
     "output_type": "display_data"
    }
   ],
   "source": [
    "plotMatrizConfusao(matriz_nb)"
   ]
  },
  {
   "cell_type": "markdown",
   "id": "6d9d307f",
   "metadata": {},
   "source": [
    "**Regressão Logistica Resutaldos**"
   ]
  },
  {
   "cell_type": "code",
   "execution_count": 75,
   "id": "39e3a314",
   "metadata": {},
   "outputs": [
    {
     "data": {
      "text/html": [
       "<div>\n",
       "<style scoped>\n",
       "    .dataframe tbody tr th:only-of-type {\n",
       "        vertical-align: middle;\n",
       "    }\n",
       "\n",
       "    .dataframe tbody tr th {\n",
       "        vertical-align: top;\n",
       "    }\n",
       "\n",
       "    .dataframe thead th {\n",
       "        text-align: right;\n",
       "    }\n",
       "</style>\n",
       "<table border=\"1\" class=\"dataframe\">\n",
       "  <thead>\n",
       "    <tr style=\"text-align: right;\">\n",
       "      <th></th>\n",
       "      <th>ACC</th>\n",
       "      <th>F1</th>\n",
       "    </tr>\n",
       "  </thead>\n",
       "  <tbody>\n",
       "    <tr>\n",
       "      <th>0</th>\n",
       "      <td>0.481948</td>\n",
       "      <td>0.497298</td>\n",
       "    </tr>\n",
       "    <tr>\n",
       "      <th>1</th>\n",
       "      <td>0.488951</td>\n",
       "      <td>0.510663</td>\n",
       "    </tr>\n",
       "    <tr>\n",
       "      <th>2</th>\n",
       "      <td>0.464591</td>\n",
       "      <td>0.489261</td>\n",
       "    </tr>\n",
       "    <tr>\n",
       "      <th>3</th>\n",
       "      <td>0.446708</td>\n",
       "      <td>0.478108</td>\n",
       "    </tr>\n",
       "    <tr>\n",
       "      <th>4</th>\n",
       "      <td>0.513539</td>\n",
       "      <td>0.537841</td>\n",
       "    </tr>\n",
       "    <tr>\n",
       "      <th>5</th>\n",
       "      <td>0.448943</td>\n",
       "      <td>0.467963</td>\n",
       "    </tr>\n",
       "    <tr>\n",
       "      <th>6</th>\n",
       "      <td>0.519424</td>\n",
       "      <td>0.542478</td>\n",
       "    </tr>\n",
       "    <tr>\n",
       "      <th>7</th>\n",
       "      <td>0.444982</td>\n",
       "      <td>0.477637</td>\n",
       "    </tr>\n",
       "    <tr>\n",
       "      <th>8</th>\n",
       "      <td>0.421611</td>\n",
       "      <td>0.447497</td>\n",
       "    </tr>\n",
       "    <tr>\n",
       "      <th>9</th>\n",
       "      <td>0.500527</td>\n",
       "      <td>0.525583</td>\n",
       "    </tr>\n",
       "  </tbody>\n",
       "</table>\n",
       "</div>"
      ],
      "text/plain": [
       "        ACC        F1\n",
       "0  0.481948  0.497298\n",
       "1  0.488951  0.510663\n",
       "2  0.464591  0.489261\n",
       "3  0.446708  0.478108\n",
       "4  0.513539  0.537841\n",
       "5  0.448943  0.467963\n",
       "6  0.519424  0.542478\n",
       "7  0.444982  0.477637\n",
       "8  0.421611  0.447497\n",
       "9  0.500527  0.525583"
      ]
     },
     "execution_count": 75,
     "metadata": {},
     "output_type": "execute_result"
    }
   ],
   "source": [
    "df_reg_log"
   ]
  },
  {
   "cell_type": "code",
   "execution_count": 76,
   "id": "aa4a6b20",
   "metadata": {},
   "outputs": [
    {
     "data": {
      "text/plain": [
       "(ACC    0.473122\n",
       " F1     0.497433\n",
       " dtype: float64,\n",
       " ACC    0.032757\n",
       " F1     0.031311\n",
       " dtype: float64)"
      ]
     },
     "execution_count": 76,
     "metadata": {},
     "output_type": "execute_result"
    }
   ],
   "source": [
    "df_reg_log.mean(),df_reg_log.std()"
   ]
  },
  {
   "cell_type": "code",
   "execution_count": 77,
   "id": "9949c86c",
   "metadata": {},
   "outputs": [
    {
     "data": {
      "image/png": "[encoded data removed]",
      "text/plain": [
       "<Figure size 432x288 with 2 Axes>"
      ]
     },
     "metadata": {
      "needs_background": "light"
     },
     "output_type": "display_data"
    }
   ],
   "source": [
    "plotMatrizConfusao(matriz_reg_log)"
   ]
  },
  {
   "cell_type": "markdown",
   "id": "2246e762",
   "metadata": {},
   "source": [
    "**Teste Estátistico**"
   ]
  },
  {
   "cell_type": "code",
   "execution_count": 80,
   "id": "c16c3426",
   "metadata": {},
   "outputs": [
    {
     "name": "stdout",
     "output_type": "stream",
     "text": [
      "Valores de p para acuracia \n",
      "KruskalResult(statistic=21.2527058823529, pvalue=0.0002821480529208631)\n"
     ]
    }
   ],
   "source": [
    "print(\"Valores de p para acuracia \")\n",
    "print(stats.kruskal(df_knn[\"ACC\"], df_nb[\"ACC\"],df_mlp[\"ACC\"],df_tree[\"ACC\"],df_reg_log[\"ACC\"]))"
   ]
  },
  {
   "cell_type": "code",
   "execution_count": 81,
   "id": "b7b23d94",
   "metadata": {},
   "outputs": [
    {
     "name": "stdout",
     "output_type": "stream",
     "text": [
      "Valores de p para F1 \n",
      "KruskalResult(statistic=27.276235294117612, pvalue=1.7479378857908905e-05)\n"
     ]
    }
   ],
   "source": [
    "print(\"Valores de p para F1 \")\n",
    "print(stats.kruskal(df_knn[\"F1\"], df_nb[\"F1\"],df_mlp[\"F1\"],df_tree[\"F1\"],df_reg_log[\"F1\"]))"
   ]
  },
  {
   "cell_type": "code",
   "execution_count": null,
   "id": "eadeaab8",
   "metadata": {},
   "outputs": [],
   "source": []
  }
 ],
 "metadata": {
  "kernelspec": {
   "display_name": "Python 3 (ipykernel)",
   "language": "python",
   "name": "python3"
  },
  "language_info": {
   "codemirror_mode": {
    "name": "ipython",
    "version": 3
   },
   "file_extension": ".py",
   "mimetype": "text/x-python",
   "name": "python",
   "nbconvert_exporter": "python",
   "pygments_lexer": "ipython3",
   "version": "3.8.12"
  }
 },
 "nbformat": 4,
 "nbformat_minor": 5
}
