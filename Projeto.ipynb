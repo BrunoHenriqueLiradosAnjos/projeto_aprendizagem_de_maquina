{
 "cells": [
  {
   "cell_type": "code",
   "execution_count": 1,
   "id": "1d824c5e",
   "metadata": {},
   "outputs": [],
   "source": [
    "import pandas as pd\n",
    "import seaborn as sns\n",
    "import numpy as np\n",
    "import matplotlib.pyplot as plt\n",
    "\n",
    "from sklearn.model_selection import StratifiedKFold\n",
    "from sklearn.tree import DecisionTreeClassifier\n",
    "from sklearn.neighbors import KNeighborsClassifier\n",
    "from sklearn.metrics import classification_report\n",
    "from sklearn.neural_network import MLPClassifier\n",
    "from sklearn.naive_bayes import GaussianNB\n",
    "from sklearn.linear_model import LogisticRegression\n",
    "from sklearn.metrics import f1_score, balanced_accuracy_score, accuracy_score\n",
    "from sklearn.model_selection import GridSearchCV\n",
    "from sklearn.metrics import confusion_matrix, plot_confusion_matrix"
   ]
  },
  {
   "cell_type": "code",
   "execution_count": 2,
   "id": "656debf1",
   "metadata": {},
   "outputs": [
    {
     "data": {
      "text/html": [
       "<div>\n",
       "<style scoped>\n",
       "    .dataframe tbody tr th:only-of-type {\n",
       "        vertical-align: middle;\n",
       "    }\n",
       "\n",
       "    .dataframe tbody tr th {\n",
       "        vertical-align: top;\n",
       "    }\n",
       "\n",
       "    .dataframe thead th {\n",
       "        text-align: right;\n",
       "    }\n",
       "</style>\n",
       "<table border=\"1\" class=\"dataframe\">\n",
       "  <thead>\n",
       "    <tr style=\"text-align: right;\">\n",
       "      <th></th>\n",
       "      <th>Wifes_age</th>\n",
       "      <th>Wifes_education</th>\n",
       "      <th>Husbands_education</th>\n",
       "      <th>Number_of_children_ever_born</th>\n",
       "      <th>Wifes_religion</th>\n",
       "      <th>Wifes_now_working%3F</th>\n",
       "      <th>Husbands_occupation</th>\n",
       "      <th>Standard-of-living_index</th>\n",
       "      <th>Media_exposure</th>\n",
       "      <th>Contraceptive_method_used</th>\n",
       "    </tr>\n",
       "  </thead>\n",
       "  <tbody>\n",
       "    <tr>\n",
       "      <th>0</th>\n",
       "      <td>24</td>\n",
       "      <td>2</td>\n",
       "      <td>3</td>\n",
       "      <td>3</td>\n",
       "      <td>1</td>\n",
       "      <td>1</td>\n",
       "      <td>2</td>\n",
       "      <td>3</td>\n",
       "      <td>0</td>\n",
       "      <td>1</td>\n",
       "    </tr>\n",
       "    <tr>\n",
       "      <th>1</th>\n",
       "      <td>45</td>\n",
       "      <td>1</td>\n",
       "      <td>3</td>\n",
       "      <td>10</td>\n",
       "      <td>1</td>\n",
       "      <td>1</td>\n",
       "      <td>3</td>\n",
       "      <td>4</td>\n",
       "      <td>0</td>\n",
       "      <td>1</td>\n",
       "    </tr>\n",
       "    <tr>\n",
       "      <th>2</th>\n",
       "      <td>43</td>\n",
       "      <td>2</td>\n",
       "      <td>3</td>\n",
       "      <td>7</td>\n",
       "      <td>1</td>\n",
       "      <td>1</td>\n",
       "      <td>3</td>\n",
       "      <td>4</td>\n",
       "      <td>0</td>\n",
       "      <td>1</td>\n",
       "    </tr>\n",
       "    <tr>\n",
       "      <th>3</th>\n",
       "      <td>42</td>\n",
       "      <td>3</td>\n",
       "      <td>2</td>\n",
       "      <td>9</td>\n",
       "      <td>1</td>\n",
       "      <td>1</td>\n",
       "      <td>3</td>\n",
       "      <td>3</td>\n",
       "      <td>0</td>\n",
       "      <td>1</td>\n",
       "    </tr>\n",
       "    <tr>\n",
       "      <th>4</th>\n",
       "      <td>36</td>\n",
       "      <td>3</td>\n",
       "      <td>3</td>\n",
       "      <td>8</td>\n",
       "      <td>1</td>\n",
       "      <td>1</td>\n",
       "      <td>3</td>\n",
       "      <td>2</td>\n",
       "      <td>0</td>\n",
       "      <td>1</td>\n",
       "    </tr>\n",
       "    <tr>\n",
       "      <th>...</th>\n",
       "      <td>...</td>\n",
       "      <td>...</td>\n",
       "      <td>...</td>\n",
       "      <td>...</td>\n",
       "      <td>...</td>\n",
       "      <td>...</td>\n",
       "      <td>...</td>\n",
       "      <td>...</td>\n",
       "      <td>...</td>\n",
       "      <td>...</td>\n",
       "    </tr>\n",
       "    <tr>\n",
       "      <th>1468</th>\n",
       "      <td>33</td>\n",
       "      <td>4</td>\n",
       "      <td>4</td>\n",
       "      <td>2</td>\n",
       "      <td>1</td>\n",
       "      <td>0</td>\n",
       "      <td>2</td>\n",
       "      <td>4</td>\n",
       "      <td>0</td>\n",
       "      <td>3</td>\n",
       "    </tr>\n",
       "    <tr>\n",
       "      <th>1469</th>\n",
       "      <td>33</td>\n",
       "      <td>4</td>\n",
       "      <td>4</td>\n",
       "      <td>3</td>\n",
       "      <td>1</td>\n",
       "      <td>1</td>\n",
       "      <td>1</td>\n",
       "      <td>4</td>\n",
       "      <td>0</td>\n",
       "      <td>3</td>\n",
       "    </tr>\n",
       "    <tr>\n",
       "      <th>1470</th>\n",
       "      <td>39</td>\n",
       "      <td>3</td>\n",
       "      <td>3</td>\n",
       "      <td>8</td>\n",
       "      <td>1</td>\n",
       "      <td>0</td>\n",
       "      <td>1</td>\n",
       "      <td>4</td>\n",
       "      <td>0</td>\n",
       "      <td>3</td>\n",
       "    </tr>\n",
       "    <tr>\n",
       "      <th>1471</th>\n",
       "      <td>33</td>\n",
       "      <td>3</td>\n",
       "      <td>3</td>\n",
       "      <td>4</td>\n",
       "      <td>1</td>\n",
       "      <td>0</td>\n",
       "      <td>2</td>\n",
       "      <td>2</td>\n",
       "      <td>0</td>\n",
       "      <td>3</td>\n",
       "    </tr>\n",
       "    <tr>\n",
       "      <th>1472</th>\n",
       "      <td>17</td>\n",
       "      <td>3</td>\n",
       "      <td>3</td>\n",
       "      <td>1</td>\n",
       "      <td>1</td>\n",
       "      <td>1</td>\n",
       "      <td>2</td>\n",
       "      <td>4</td>\n",
       "      <td>0</td>\n",
       "      <td>3</td>\n",
       "    </tr>\n",
       "  </tbody>\n",
       "</table>\n",
       "<p>1473 rows × 10 columns</p>\n",
       "</div>"
      ],
      "text/plain": [
       "      Wifes_age  Wifes_education  Husbands_education  \\\n",
       "0            24                2                   3   \n",
       "1            45                1                   3   \n",
       "2            43                2                   3   \n",
       "3            42                3                   2   \n",
       "4            36                3                   3   \n",
       "...         ...              ...                 ...   \n",
       "1468         33                4                   4   \n",
       "1469         33                4                   4   \n",
       "1470         39                3                   3   \n",
       "1471         33                3                   3   \n",
       "1472         17                3                   3   \n",
       "\n",
       "      Number_of_children_ever_born  Wifes_religion  Wifes_now_working%3F  \\\n",
       "0                                3               1                     1   \n",
       "1                               10               1                     1   \n",
       "2                                7               1                     1   \n",
       "3                                9               1                     1   \n",
       "4                                8               1                     1   \n",
       "...                            ...             ...                   ...   \n",
       "1468                             2               1                     0   \n",
       "1469                             3               1                     1   \n",
       "1470                             8               1                     0   \n",
       "1471                             4               1                     0   \n",
       "1472                             1               1                     1   \n",
       "\n",
       "      Husbands_occupation  Standard-of-living_index  Media_exposure  \\\n",
       "0                       2                         3               0   \n",
       "1                       3                         4               0   \n",
       "2                       3                         4               0   \n",
       "3                       3                         3               0   \n",
       "4                       3                         2               0   \n",
       "...                   ...                       ...             ...   \n",
       "1468                    2                         4               0   \n",
       "1469                    1                         4               0   \n",
       "1470                    1                         4               0   \n",
       "1471                    2                         2               0   \n",
       "1472                    2                         4               0   \n",
       "\n",
       "      Contraceptive_method_used  \n",
       "0                             1  \n",
       "1                             1  \n",
       "2                             1  \n",
       "3                             1  \n",
       "4                             1  \n",
       "...                         ...  \n",
       "1468                          3  \n",
       "1469                          3  \n",
       "1470                          3  \n",
       "1471                          3  \n",
       "1472                          3  \n",
       "\n",
       "[1473 rows x 10 columns]"
      ]
     },
     "execution_count": 2,
     "metadata": {},
     "output_type": "execute_result"
    }
   ],
   "source": [
    "df = pd.read_csv(\"dataset_23_cmc.csv\")\n",
    "df"
   ]
  },
  {
   "cell_type": "code",
   "execution_count": 3,
   "id": "867bfeea",
   "metadata": {},
   "outputs": [
    {
     "name": "stdout",
     "output_type": "stream",
     "text": [
      "<class 'pandas.core.frame.DataFrame'>\n",
      "RangeIndex: 1473 entries, 0 to 1472\n",
      "Data columns (total 10 columns):\n",
      " #   Column                        Non-Null Count  Dtype\n",
      "---  ------                        --------------  -----\n",
      " 0   Wifes_age                     1473 non-null   int64\n",
      " 1   Wifes_education               1473 non-null   int64\n",
      " 2   Husbands_education            1473 non-null   int64\n",
      " 3   Number_of_children_ever_born  1473 non-null   int64\n",
      " 4   Wifes_religion                1473 non-null   int64\n",
      " 5   Wifes_now_working%3F          1473 non-null   int64\n",
      " 6   Husbands_occupation           1473 non-null   int64\n",
      " 7   Standard-of-living_index      1473 non-null   int64\n",
      " 8   Media_exposure                1473 non-null   int64\n",
      " 9   Contraceptive_method_used     1473 non-null   int64\n",
      "dtypes: int64(10)\n",
      "memory usage: 115.2 KB\n"
     ]
    }
   ],
   "source": [
    "df.info()"
   ]
  },
  {
   "cell_type": "code",
   "execution_count": 4,
   "id": "f0492b7c",
   "metadata": {},
   "outputs": [],
   "source": [
    "target = \"Contraceptive_method_used\""
   ]
  },
  {
   "cell_type": "code",
   "execution_count": 5,
   "id": "e200a349",
   "metadata": {},
   "outputs": [
    {
     "data": {
      "image/png": "[encoded data removed]",
      "text/plain": [
       "<Figure size 432x288 with 1 Axes>"
      ]
     },
     "metadata": {
      "needs_background": "light"
     },
     "output_type": "display_data"
    }
   ],
   "source": [
    "sns.countplot(x = df[target]);\n"
   ]
  },
  {
   "cell_type": "code",
   "execution_count": 6,
   "id": "c58867c9",
   "metadata": {},
   "outputs": [],
   "source": [
    "sample_max = df[df[target] == 2].shape[0]\n",
    "df_aux = pd.DataFrame()\n",
    "df_aux = pd.concat([df_aux, df.loc[df[(df[\"Contraceptive_method_used\"]==2)].sample(n=sample_max, random_state = 1).index]])\n",
    "df_aux = pd.concat([df_aux, df.loc[df[(df[\"Contraceptive_method_used\"]==1)].sample(n=sample_max, random_state = 1).index]])\n",
    "df_aux = pd.concat([df_aux, df.loc[df[(df[\"Contraceptive_method_used\"]==3)].sample(n=sample_max, random_state = 1).index]])\n",
    "df = df_aux"
   ]
  },
  {
   "cell_type": "code",
   "execution_count": 7,
   "id": "ea8d6a98",
   "metadata": {},
   "outputs": [
    {
     "data": {
      "image/png": "[encoded data removed]",
      "text/plain": [
       "<Figure size 432x288 with 1 Axes>"
      ]
     },
     "metadata": {
      "needs_background": "light"
     },
     "output_type": "display_data"
    }
   ],
   "source": [
    "sns.countplot(x = df[target]);"
   ]
  },
  {
   "cell_type": "code",
   "execution_count": 8,
   "id": "57b1a1d2",
   "metadata": {},
   "outputs": [],
   "source": [
    "#normalized_df = df"
   ]
  },
  {
   "cell_type": "markdown",
   "id": "d0122ed7",
   "metadata": {},
   "source": [
    "**Normalização entre 0 - 1**"
   ]
  },
  {
   "cell_type": "code",
   "execution_count": 9,
   "id": "7cc54e3b",
   "metadata": {
    "scrolled": false
   },
   "outputs": [
    {
     "data": {
      "text/html": [
       "<div>\n",
       "<style scoped>\n",
       "    .dataframe tbody tr th:only-of-type {\n",
       "        vertical-align: middle;\n",
       "    }\n",
       "\n",
       "    .dataframe tbody tr th {\n",
       "        vertical-align: top;\n",
       "    }\n",
       "\n",
       "    .dataframe thead th {\n",
       "        text-align: right;\n",
       "    }\n",
       "</style>\n",
       "<table border=\"1\" class=\"dataframe\">\n",
       "  <thead>\n",
       "    <tr style=\"text-align: right;\">\n",
       "      <th></th>\n",
       "      <th>Wifes_age</th>\n",
       "      <th>Wifes_education</th>\n",
       "      <th>Husbands_education</th>\n",
       "      <th>Number_of_children_ever_born</th>\n",
       "      <th>Wifes_religion</th>\n",
       "      <th>Wifes_now_working%3F</th>\n",
       "      <th>Husbands_occupation</th>\n",
       "      <th>Standard-of-living_index</th>\n",
       "      <th>Media_exposure</th>\n",
       "      <th>Contraceptive_method_used</th>\n",
       "    </tr>\n",
       "  </thead>\n",
       "  <tbody>\n",
       "    <tr>\n",
       "      <th>474</th>\n",
       "      <td>0.939394</td>\n",
       "      <td>1.000000</td>\n",
       "      <td>1.000000</td>\n",
       "      <td>0.5000</td>\n",
       "      <td>1.0</td>\n",
       "      <td>1.0</td>\n",
       "      <td>0.000000</td>\n",
       "      <td>1.000000</td>\n",
       "      <td>0.0</td>\n",
       "      <td>2</td>\n",
       "    </tr>\n",
       "    <tr>\n",
       "      <th>1256</th>\n",
       "      <td>0.939394</td>\n",
       "      <td>1.000000</td>\n",
       "      <td>1.000000</td>\n",
       "      <td>0.2500</td>\n",
       "      <td>0.0</td>\n",
       "      <td>1.0</td>\n",
       "      <td>0.333333</td>\n",
       "      <td>1.000000</td>\n",
       "      <td>0.0</td>\n",
       "      <td>2</td>\n",
       "    </tr>\n",
       "    <tr>\n",
       "      <th>595</th>\n",
       "      <td>0.787879</td>\n",
       "      <td>1.000000</td>\n",
       "      <td>1.000000</td>\n",
       "      <td>0.3125</td>\n",
       "      <td>1.0</td>\n",
       "      <td>1.0</td>\n",
       "      <td>0.000000</td>\n",
       "      <td>1.000000</td>\n",
       "      <td>0.0</td>\n",
       "      <td>2</td>\n",
       "    </tr>\n",
       "    <tr>\n",
       "      <th>607</th>\n",
       "      <td>0.515152</td>\n",
       "      <td>0.666667</td>\n",
       "      <td>1.000000</td>\n",
       "      <td>0.1875</td>\n",
       "      <td>0.0</td>\n",
       "      <td>1.0</td>\n",
       "      <td>0.333333</td>\n",
       "      <td>1.000000</td>\n",
       "      <td>0.0</td>\n",
       "      <td>2</td>\n",
       "    </tr>\n",
       "    <tr>\n",
       "      <th>1272</th>\n",
       "      <td>0.393939</td>\n",
       "      <td>1.000000</td>\n",
       "      <td>1.000000</td>\n",
       "      <td>0.1875</td>\n",
       "      <td>1.0</td>\n",
       "      <td>1.0</td>\n",
       "      <td>0.666667</td>\n",
       "      <td>0.333333</td>\n",
       "      <td>0.0</td>\n",
       "      <td>2</td>\n",
       "    </tr>\n",
       "    <tr>\n",
       "      <th>...</th>\n",
       "      <td>...</td>\n",
       "      <td>...</td>\n",
       "      <td>...</td>\n",
       "      <td>...</td>\n",
       "      <td>...</td>\n",
       "      <td>...</td>\n",
       "      <td>...</td>\n",
       "      <td>...</td>\n",
       "      <td>...</td>\n",
       "      <td>...</td>\n",
       "    </tr>\n",
       "    <tr>\n",
       "      <th>758</th>\n",
       "      <td>0.969697</td>\n",
       "      <td>0.666667</td>\n",
       "      <td>1.000000</td>\n",
       "      <td>0.1875</td>\n",
       "      <td>1.0</td>\n",
       "      <td>1.0</td>\n",
       "      <td>0.333333</td>\n",
       "      <td>0.666667</td>\n",
       "      <td>0.0</td>\n",
       "      <td>3</td>\n",
       "    </tr>\n",
       "    <tr>\n",
       "      <th>854</th>\n",
       "      <td>0.393939</td>\n",
       "      <td>0.666667</td>\n",
       "      <td>0.666667</td>\n",
       "      <td>0.3750</td>\n",
       "      <td>1.0</td>\n",
       "      <td>1.0</td>\n",
       "      <td>0.666667</td>\n",
       "      <td>0.666667</td>\n",
       "      <td>0.0</td>\n",
       "      <td>3</td>\n",
       "    </tr>\n",
       "    <tr>\n",
       "      <th>1424</th>\n",
       "      <td>0.181818</td>\n",
       "      <td>0.333333</td>\n",
       "      <td>1.000000</td>\n",
       "      <td>0.1250</td>\n",
       "      <td>1.0</td>\n",
       "      <td>1.0</td>\n",
       "      <td>0.666667</td>\n",
       "      <td>0.333333</td>\n",
       "      <td>0.0</td>\n",
       "      <td>3</td>\n",
       "    </tr>\n",
       "    <tr>\n",
       "      <th>1399</th>\n",
       "      <td>0.151515</td>\n",
       "      <td>0.666667</td>\n",
       "      <td>0.666667</td>\n",
       "      <td>0.0625</td>\n",
       "      <td>1.0</td>\n",
       "      <td>1.0</td>\n",
       "      <td>0.666667</td>\n",
       "      <td>0.000000</td>\n",
       "      <td>0.0</td>\n",
       "      <td>3</td>\n",
       "    </tr>\n",
       "    <tr>\n",
       "      <th>1323</th>\n",
       "      <td>0.151515</td>\n",
       "      <td>0.666667</td>\n",
       "      <td>0.666667</td>\n",
       "      <td>0.0625</td>\n",
       "      <td>0.0</td>\n",
       "      <td>1.0</td>\n",
       "      <td>0.666667</td>\n",
       "      <td>0.333333</td>\n",
       "      <td>0.0</td>\n",
       "      <td>3</td>\n",
       "    </tr>\n",
       "  </tbody>\n",
       "</table>\n",
       "<p>999 rows × 10 columns</p>\n",
       "</div>"
      ],
      "text/plain": [
       "      Wifes_age  Wifes_education  Husbands_education  \\\n",
       "474    0.939394         1.000000            1.000000   \n",
       "1256   0.939394         1.000000            1.000000   \n",
       "595    0.787879         1.000000            1.000000   \n",
       "607    0.515152         0.666667            1.000000   \n",
       "1272   0.393939         1.000000            1.000000   \n",
       "...         ...              ...                 ...   \n",
       "758    0.969697         0.666667            1.000000   \n",
       "854    0.393939         0.666667            0.666667   \n",
       "1424   0.181818         0.333333            1.000000   \n",
       "1399   0.151515         0.666667            0.666667   \n",
       "1323   0.151515         0.666667            0.666667   \n",
       "\n",
       "      Number_of_children_ever_born  Wifes_religion  Wifes_now_working%3F  \\\n",
       "474                         0.5000             1.0                   1.0   \n",
       "1256                        0.2500             0.0                   1.0   \n",
       "595                         0.3125             1.0                   1.0   \n",
       "607                         0.1875             0.0                   1.0   \n",
       "1272                        0.1875             1.0                   1.0   \n",
       "...                            ...             ...                   ...   \n",
       "758                         0.1875             1.0                   1.0   \n",
       "854                         0.3750             1.0                   1.0   \n",
       "1424                        0.1250             1.0                   1.0   \n",
       "1399                        0.0625             1.0                   1.0   \n",
       "1323                        0.0625             0.0                   1.0   \n",
       "\n",
       "      Husbands_occupation  Standard-of-living_index  Media_exposure  \\\n",
       "474              0.000000                  1.000000             0.0   \n",
       "1256             0.333333                  1.000000             0.0   \n",
       "595              0.000000                  1.000000             0.0   \n",
       "607              0.333333                  1.000000             0.0   \n",
       "1272             0.666667                  0.333333             0.0   \n",
       "...                   ...                       ...             ...   \n",
       "758              0.333333                  0.666667             0.0   \n",
       "854              0.666667                  0.666667             0.0   \n",
       "1424             0.666667                  0.333333             0.0   \n",
       "1399             0.666667                  0.000000             0.0   \n",
       "1323             0.666667                  0.333333             0.0   \n",
       "\n",
       "      Contraceptive_method_used  \n",
       "474                           2  \n",
       "1256                          2  \n",
       "595                           2  \n",
       "607                           2  \n",
       "1272                          2  \n",
       "...                         ...  \n",
       "758                           3  \n",
       "854                           3  \n",
       "1424                          3  \n",
       "1399                          3  \n",
       "1323                          3  \n",
       "\n",
       "[999 rows x 10 columns]"
      ]
     },
     "execution_count": 9,
     "metadata": {},
     "output_type": "execute_result"
    }
   ],
   "source": [
    "#normlizando 0 - 1\n",
    "normalized_df = pd.DataFrame()\n",
    "for i in df.columns:\n",
    "    if i != target:\n",
    "        normalized_df[i]=(df[i]-df[i].min())/(df[i].max()-df[i].min())\n",
    "    else:\n",
    "        normalized_df[i] = df[i]\n",
    "        \n",
    "normalized_df"
   ]
  },
  {
   "cell_type": "markdown",
   "id": "206e51c1",
   "metadata": {},
   "source": [
    "**Sem GS**"
   ]
  },
  {
   "cell_type": "code",
   "execution_count": 10,
   "id": "840b0e42",
   "metadata": {},
   "outputs": [],
   "source": [
    "def classificador(model,X_train, X_test,y_train, y_test):\n",
    "    \n",
    "    model.fit(X_train, y_train)\n",
    "    #utilizando acuracia balanceada\n",
    "    new_row = {\"ACC\":balanced_accuracy_score(y_test, model.predict(X_test)),\"F1\":f1_score(y_test, model.predict(X_test), average='weighted') }\n",
    "    matrix_confusao = confusion_matrix(y_test,model.predict(X_test))\n",
    "\n",
    "\n",
    "\n",
    "    return (new_row, matrix_confusao)"
   ]
  },
  {
   "cell_type": "code",
   "execution_count": 32,
   "id": "b6dc6bf9",
   "metadata": {},
   "outputs": [],
   "source": [
    "def otimizadorDeHype(name,X_train,y_train):\n",
    "    cv = 3\n",
    "    if name=='knn':\n",
    "        limite_superior = 100\n",
    "        limite_inferior = 1 \n",
    "        limite = list(range(limite_inferior,limite_superior))\n",
    "        #Parametros a serem escolhidos\n",
    "        params = {'n_neighbors':limite, 'metric':['euclidean','manhattan']}\n",
    "        #istanciando \n",
    "        gridS = GridSearchCV(KNeighborsClassifier(),params,cv=cv,n_jobs=-1)\n",
    "        #treinando o grid \n",
    "        grid_result = gridS.fit(X_train,y_train)\n",
    "        return KNeighborsClassifier(metric = grid_result.best_params_['metric'],\n",
    "                                    n_neighbors = grid_result.best_params_['n_neighbors']  )\n",
    "    \n",
    "    if name== 'mlp':\n",
    "        mlp = MLPClassifier(max_iter=1000)\n",
    "\n",
    "        params = {\n",
    "            'hidden_layer_sizes': [(8,8),(316,16),(32,32), (32,64), (64,128)],\n",
    "            'activation': ['tanh', 'relu'],\n",
    "            'solver':['sgd','adam'],\n",
    "            'alpha':[0.0001, 0.05],\n",
    "            'learning_rate': ['constante','adaptive'],\n",
    "        }\n",
    "\n",
    "        gridS = GridSearchCV(mlp,params,n_jobs=-1,cv=cv)\n",
    "        \n",
    "        grid_result = gridS.fit(X_train,y_train)\n",
    "        return MLPClassifier(hidden_layer_sizes=grid_result.best_params_['hidden_layer_sizes'], \n",
    "                    activation=grid_result.best_params_['activation'], solver=grid_result.best_params_['solver'],\n",
    "                    alpha=grid_result.best_params_['alpha'],\n",
    "                    learning_rate=grid_result.best_params_['learning_rate'], max_iter=100000)\n",
    "    if name == 'df':\n",
    "        \n",
    "        df = DecisionTreeClassifier()\n",
    "        params = {'max_leaf_nodes': list(range(2, 100)), 'min_samples_split': list(range(2, 10)),\n",
    "                  'max_depth':list(range(2, 15)),'criterion':[\"gini\", \"entropy\"]}\n",
    "        gridS = GridSearchCV(df,params,cv=cv,n_jobs=-1)\n",
    "        grid_result = gridS.fit(X_train,y_train)\n",
    "        return DecisionTreeClassifier(max_leaf_nodes = grid_result.best_params_['max_leaf_nodes'],\n",
    "                                      min_samples_split=grid_result.best_params_['min_samples_split'] ,\n",
    "                                     max_depth=  grid_result.best_params_['max_depth'],\n",
    "                                     criterion = grid_result.best_params_['criterion'])\n",
    "        "
   ]
  },
  {
   "cell_type": "code",
   "execution_count": 27,
   "id": "7e1f07dc",
   "metadata": {},
   "outputs": [],
   "source": [
    "X = normalized_df.drop(target, axis=1).values\n",
    "y = normalized_df[target].values\n",
    "splits_kfold = 10"
   ]
  },
  {
   "cell_type": "code",
   "execution_count": 33,
   "id": "85252cde",
   "metadata": {},
   "outputs": [
    {
     "name": "stderr",
     "output_type": "stream",
     "text": [
      "C:\\Users\\bhla\\anaconda3\\envs\\DataScience\\lib\\site-packages\\sklearn\\neural_network\\_multilayer_perceptron.py:582: ConvergenceWarning: Stochastic Optimizer: Maximum iterations (1000) reached and the optimization hasn't converged yet.\n",
      "  warnings.warn(\n",
      "C:\\Users\\bhla\\anaconda3\\envs\\DataScience\\lib\\site-packages\\sklearn\\neural_network\\_multilayer_perceptron.py:582: ConvergenceWarning: Stochastic Optimizer: Maximum iterations (1000) reached and the optimization hasn't converged yet.\n",
      "  warnings.warn(\n",
      "C:\\Users\\bhla\\anaconda3\\envs\\DataScience\\lib\\site-packages\\sklearn\\neural_network\\_multilayer_perceptron.py:582: ConvergenceWarning: Stochastic Optimizer: Maximum iterations (1000) reached and the optimization hasn't converged yet.\n",
      "  warnings.warn(\n",
      "C:\\Users\\bhla\\anaconda3\\envs\\DataScience\\lib\\site-packages\\sklearn\\neural_network\\_multilayer_perceptron.py:582: ConvergenceWarning: Stochastic Optimizer: Maximum iterations (1000) reached and the optimization hasn't converged yet.\n",
      "  warnings.warn(\n"
     ]
    }
   ],
   "source": [
    "\n",
    "kf = StratifiedKFold(n_splits=splits_kfold)\n",
    "kf.get_n_splits(X,y)\n",
    "\n",
    "metrics = [\"ACC\",\"F1\"]\n",
    "\n",
    "df_knn = pd.DataFrame(columns=metrics)\n",
    "matriz_knn = []\n",
    "matriz_tree = []\n",
    "matriz_mlp = []\n",
    "\n",
    "\n",
    "df_tree = pd.DataFrame(columns=metrics)\n",
    "df_mlp = pd.DataFrame(columns=metrics)\n",
    "df_nb = pd.DataFrame(columns=metrics)\n",
    "df_reg_log = pd.DataFrame(columns=metrics)\n",
    "\n",
    "\n",
    "\n",
    "for train_index, test_index in kf.split(X,y):\n",
    "    \n",
    "    X_train, X_test = X[train_index], X[test_index]\n",
    "    y_train, y_test = y[train_index], y[test_index]\n",
    "    \n",
    "\n",
    "    #model = otimizadorDeHype(\"knn\",X_train,y_train)\n",
    "    #line, matrix = classificador(model,X_train, X_test,y_train, y_test)\n",
    "    #df_knn = df_knn.append(line, ignore_index=True)\n",
    "    #matriz_knn.append(matrix)\n",
    "    \n",
    "     \n",
    "        \n",
    "    #model = otimizadorDeHype(\"df\",X_train,y_train)\n",
    "    #line, matrix = classificador(model,X_train, X_test,y_train, y_test)\n",
    "    #df_tree = df_tree.append(line, ignore_index=True)\n",
    "    #matriz_tree.append(matrix)   \n",
    "    \n",
    "    \n",
    "    \n",
    "    model = otimizadorDeHype(\"mlp\",X_train,y_train)\n",
    "    line, matrix = classificador(model,X_train, X_test,y_train, y_test)\n",
    "    df_mlp = df_mlp.append(line, ignore_index=True)\n",
    "    matriz_mlp.append(matrix)  \n",
    "    \n",
    "    \n",
    "    \n",
    "    #model = GaussianNB()\n",
    "    #df_nb,matrix = df_nb.append(classificador(model,X_train, X_test,y_train, y_test), ignore_index=True) \n",
    "    \n",
    "    \n",
    "    \n",
    "    #model = LogisticRegression(solver='liblinear')\n",
    "    #df_reg_log,matrix = df_reg_log.append(classificador(model,X_train, X_test,y_train, y_test), ignore_index=True) \n",
    "    "
   ]
  },
  {
   "cell_type": "markdown",
   "id": "c89aab00",
   "metadata": {},
   "source": [
    "**KNN Resultados**"
   ]
  },
  {
   "cell_type": "code",
   "execution_count": 200,
   "id": "32c993f8",
   "metadata": {},
   "outputs": [
    {
     "data": {
      "text/html": [
       "<div>\n",
       "<style scoped>\n",
       "    .dataframe tbody tr th:only-of-type {\n",
       "        vertical-align: middle;\n",
       "    }\n",
       "\n",
       "    .dataframe tbody tr th {\n",
       "        vertical-align: top;\n",
       "    }\n",
       "\n",
       "    .dataframe thead th {\n",
       "        text-align: right;\n",
       "    }\n",
       "</style>\n",
       "<table border=\"1\" class=\"dataframe\">\n",
       "  <thead>\n",
       "    <tr style=\"text-align: right;\">\n",
       "      <th></th>\n",
       "      <th>ACC</th>\n",
       "      <th>F1</th>\n",
       "    </tr>\n",
       "  </thead>\n",
       "  <tbody>\n",
       "    <tr>\n",
       "      <th>0</th>\n",
       "      <td>0.480095</td>\n",
       "      <td>0.477736</td>\n",
       "    </tr>\n",
       "    <tr>\n",
       "      <th>1</th>\n",
       "      <td>0.529709</td>\n",
       "      <td>0.530402</td>\n",
       "    </tr>\n",
       "    <tr>\n",
       "      <th>2</th>\n",
       "      <td>0.448010</td>\n",
       "      <td>0.440282</td>\n",
       "    </tr>\n",
       "    <tr>\n",
       "      <th>3</th>\n",
       "      <td>0.421569</td>\n",
       "      <td>0.406682</td>\n",
       "    </tr>\n",
       "    <tr>\n",
       "      <th>4</th>\n",
       "      <td>0.492573</td>\n",
       "      <td>0.462863</td>\n",
       "    </tr>\n",
       "    <tr>\n",
       "      <th>5</th>\n",
       "      <td>0.481581</td>\n",
       "      <td>0.472336</td>\n",
       "    </tr>\n",
       "    <tr>\n",
       "      <th>6</th>\n",
       "      <td>0.319073</td>\n",
       "      <td>0.316744</td>\n",
       "    </tr>\n",
       "    <tr>\n",
       "      <th>7</th>\n",
       "      <td>0.528818</td>\n",
       "      <td>0.525108</td>\n",
       "    </tr>\n",
       "    <tr>\n",
       "      <th>8</th>\n",
       "      <td>0.560903</td>\n",
       "      <td>0.552273</td>\n",
       "    </tr>\n",
       "    <tr>\n",
       "      <th>9</th>\n",
       "      <td>0.494949</td>\n",
       "      <td>0.490236</td>\n",
       "    </tr>\n",
       "  </tbody>\n",
       "</table>\n",
       "</div>"
      ],
      "text/plain": [
       "        ACC        F1\n",
       "0  0.480095  0.477736\n",
       "1  0.529709  0.530402\n",
       "2  0.448010  0.440282\n",
       "3  0.421569  0.406682\n",
       "4  0.492573  0.462863\n",
       "5  0.481581  0.472336\n",
       "6  0.319073  0.316744\n",
       "7  0.528818  0.525108\n",
       "8  0.560903  0.552273\n",
       "9  0.494949  0.490236"
      ]
     },
     "execution_count": 200,
     "metadata": {},
     "output_type": "execute_result"
    }
   ],
   "source": [
    "df_knn"
   ]
  },
  {
   "cell_type": "code",
   "execution_count": 201,
   "id": "7f6cfb7f",
   "metadata": {},
   "outputs": [
    {
     "data": {
      "text/plain": [
       "(ACC    0.475728\n",
       " F1     0.467466\n",
       " dtype: float64,\n",
       " ACC    0.068261\n",
       " F1     0.068553\n",
       " dtype: float64)"
      ]
     },
     "execution_count": 201,
     "metadata": {},
     "output_type": "execute_result"
    }
   ],
   "source": [
    "df_knn.mean(),df_knn.std()"
   ]
  },
  {
   "cell_type": "markdown",
   "id": "bb9e652c",
   "metadata": {},
   "source": [
    "Plot das matrizes de confusão"
   ]
  },
  {
   "cell_type": "code",
   "execution_count": 205,
   "id": "22e79044",
   "metadata": {},
   "outputs": [
    {
     "data": {
      "image/png": "[encoded data removed]",
      "text/plain": [
       "<Figure size 1440x432 with 20 Axes>"
      ]
     },
     "metadata": {
      "needs_background": "light"
     },
     "output_type": "display_data"
    }
   ],
   "source": [
    "sns.color_palette(\"coolwarm\", as_cmap=True)\n",
    "fig, axes = plt.subplots(nrows=2, ncols=5, figsize=(20,6))\n",
    "for i in range(5):\n",
    "    for j in range(2):\n",
    "        sns.heatmap(matriz_knn[i], annot=True, ax = axes[j][i])\n",
    "\n",
    "plt.tight_layout()"
   ]
  },
  {
   "cell_type": "markdown",
   "id": "c0b81d34",
   "metadata": {},
   "source": [
    "**DT Resutaldos**"
   ]
  },
  {
   "cell_type": "code",
   "execution_count": 29,
   "id": "7ebf210f",
   "metadata": {},
   "outputs": [
    {
     "data": {
      "text/html": [
       "<div>\n",
       "<style scoped>\n",
       "    .dataframe tbody tr th:only-of-type {\n",
       "        vertical-align: middle;\n",
       "    }\n",
       "\n",
       "    .dataframe tbody tr th {\n",
       "        vertical-align: top;\n",
       "    }\n",
       "\n",
       "    .dataframe thead th {\n",
       "        text-align: right;\n",
       "    }\n",
       "</style>\n",
       "<table border=\"1\" class=\"dataframe\">\n",
       "  <thead>\n",
       "    <tr style=\"text-align: right;\">\n",
       "      <th></th>\n",
       "      <th>ACC</th>\n",
       "      <th>F1</th>\n",
       "    </tr>\n",
       "  </thead>\n",
       "  <tbody>\n",
       "    <tr>\n",
       "      <th>0</th>\n",
       "      <td>0.519905</td>\n",
       "      <td>0.524508</td>\n",
       "    </tr>\n",
       "    <tr>\n",
       "      <th>1</th>\n",
       "      <td>0.439988</td>\n",
       "      <td>0.431663</td>\n",
       "    </tr>\n",
       "    <tr>\n",
       "      <th>2</th>\n",
       "      <td>0.549020</td>\n",
       "      <td>0.538895</td>\n",
       "    </tr>\n",
       "    <tr>\n",
       "      <th>3</th>\n",
       "      <td>0.489899</td>\n",
       "      <td>0.497358</td>\n",
       "    </tr>\n",
       "    <tr>\n",
       "      <th>4</th>\n",
       "      <td>0.530303</td>\n",
       "      <td>0.518830</td>\n",
       "    </tr>\n",
       "    <tr>\n",
       "      <th>5</th>\n",
       "      <td>0.530303</td>\n",
       "      <td>0.535344</td>\n",
       "    </tr>\n",
       "    <tr>\n",
       "      <th>6</th>\n",
       "      <td>0.449198</td>\n",
       "      <td>0.449178</td>\n",
       "    </tr>\n",
       "    <tr>\n",
       "      <th>7</th>\n",
       "      <td>0.480689</td>\n",
       "      <td>0.476315</td>\n",
       "    </tr>\n",
       "    <tr>\n",
       "      <th>8</th>\n",
       "      <td>0.600713</td>\n",
       "      <td>0.600707</td>\n",
       "    </tr>\n",
       "    <tr>\n",
       "      <th>9</th>\n",
       "      <td>0.555556</td>\n",
       "      <td>0.551643</td>\n",
       "    </tr>\n",
       "  </tbody>\n",
       "</table>\n",
       "</div>"
      ],
      "text/plain": [
       "        ACC        F1\n",
       "0  0.519905  0.524508\n",
       "1  0.439988  0.431663\n",
       "2  0.549020  0.538895\n",
       "3  0.489899  0.497358\n",
       "4  0.530303  0.518830\n",
       "5  0.530303  0.535344\n",
       "6  0.449198  0.449178\n",
       "7  0.480689  0.476315\n",
       "8  0.600713  0.600707\n",
       "9  0.555556  0.551643"
      ]
     },
     "execution_count": 29,
     "metadata": {},
     "output_type": "execute_result"
    }
   ],
   "source": [
    "df_tree"
   ]
  },
  {
   "cell_type": "code",
   "execution_count": 30,
   "id": "a33b83ac",
   "metadata": {},
   "outputs": [
    {
     "data": {
      "text/plain": [
       "(ACC    0.514557\n",
       " F1     0.512444\n",
       " dtype: float64,\n",
       " ACC    0.049892\n",
       " F1     0.050330\n",
       " dtype: float64)"
      ]
     },
     "execution_count": 30,
     "metadata": {},
     "output_type": "execute_result"
    }
   ],
   "source": [
    "df_tree.mean(),df_tree.std()"
   ]
  },
  {
   "cell_type": "code",
   "execution_count": 31,
   "id": "443576bf",
   "metadata": {},
   "outputs": [
    {
     "data": {
      "image/png": "[encoded data removed]",
      "text/plain": [
       "<Figure size 1440x432 with 20 Axes>"
      ]
     },
     "metadata": {
      "needs_background": "light"
     },
     "output_type": "display_data"
    }
   ],
   "source": [
    "sns.color_palette(\"coolwarm\", as_cmap=True)\n",
    "fig, axes = plt.subplots(nrows=2, ncols=5, figsize=(20,6))\n",
    "for i in range(5):\n",
    "    for j in range(2):\n",
    "        sns.heatmap(matriz_tree[i], annot=True, ax = axes[j][i])\n",
    "\n",
    "plt.tight_layout()"
   ]
  },
  {
   "cell_type": "markdown",
   "id": "72c4ed5b",
   "metadata": {},
   "source": [
    "**Multilayer Perceptron Resultados**"
   ]
  },
  {
   "cell_type": "code",
   "execution_count": 34,
   "id": "40119cd6",
   "metadata": {},
   "outputs": [
    {
     "data": {
      "text/html": [
       "<div>\n",
       "<style scoped>\n",
       "    .dataframe tbody tr th:only-of-type {\n",
       "        vertical-align: middle;\n",
       "    }\n",
       "\n",
       "    .dataframe tbody tr th {\n",
       "        vertical-align: top;\n",
       "    }\n",
       "\n",
       "    .dataframe thead th {\n",
       "        text-align: right;\n",
       "    }\n",
       "</style>\n",
       "<table border=\"1\" class=\"dataframe\">\n",
       "  <thead>\n",
       "    <tr style=\"text-align: right;\">\n",
       "      <th></th>\n",
       "      <th>ACC</th>\n",
       "      <th>F1</th>\n",
       "    </tr>\n",
       "  </thead>\n",
       "  <tbody>\n",
       "    <tr>\n",
       "      <th>0</th>\n",
       "      <td>0.599822</td>\n",
       "      <td>0.593011</td>\n",
       "    </tr>\n",
       "    <tr>\n",
       "      <th>1</th>\n",
       "      <td>0.509210</td>\n",
       "      <td>0.510896</td>\n",
       "    </tr>\n",
       "    <tr>\n",
       "      <th>2</th>\n",
       "      <td>0.459002</td>\n",
       "      <td>0.457402</td>\n",
       "    </tr>\n",
       "    <tr>\n",
       "      <th>3</th>\n",
       "      <td>0.489305</td>\n",
       "      <td>0.485168</td>\n",
       "    </tr>\n",
       "    <tr>\n",
       "      <th>4</th>\n",
       "      <td>0.601010</td>\n",
       "      <td>0.600423</td>\n",
       "    </tr>\n",
       "    <tr>\n",
       "      <th>5</th>\n",
       "      <td>0.559418</td>\n",
       "      <td>0.560044</td>\n",
       "    </tr>\n",
       "    <tr>\n",
       "      <th>6</th>\n",
       "      <td>0.560012</td>\n",
       "      <td>0.557662</td>\n",
       "    </tr>\n",
       "    <tr>\n",
       "      <th>7</th>\n",
       "      <td>0.530006</td>\n",
       "      <td>0.527257</td>\n",
       "    </tr>\n",
       "    <tr>\n",
       "      <th>8</th>\n",
       "      <td>0.550505</td>\n",
       "      <td>0.546084</td>\n",
       "    </tr>\n",
       "    <tr>\n",
       "      <th>9</th>\n",
       "      <td>0.585859</td>\n",
       "      <td>0.586191</td>\n",
       "    </tr>\n",
       "  </tbody>\n",
       "</table>\n",
       "</div>"
      ],
      "text/plain": [
       "        ACC        F1\n",
       "0  0.599822  0.593011\n",
       "1  0.509210  0.510896\n",
       "2  0.459002  0.457402\n",
       "3  0.489305  0.485168\n",
       "4  0.601010  0.600423\n",
       "5  0.559418  0.560044\n",
       "6  0.560012  0.557662\n",
       "7  0.530006  0.527257\n",
       "8  0.550505  0.546084\n",
       "9  0.585859  0.586191"
      ]
     },
     "execution_count": 34,
     "metadata": {},
     "output_type": "execute_result"
    }
   ],
   "source": [
    "df_mlp"
   ]
  },
  {
   "cell_type": "code",
   "execution_count": 35,
   "id": "d4ad246f",
   "metadata": {},
   "outputs": [
    {
     "data": {
      "text/plain": [
       "(ACC    0.544415\n",
       " F1     0.542414\n",
       " dtype: float64,\n",
       " ACC    0.047464\n",
       " F1     0.047288\n",
       " dtype: float64)"
      ]
     },
     "execution_count": 35,
     "metadata": {},
     "output_type": "execute_result"
    }
   ],
   "source": [
    "df_mlp.mean(),df_mlp.std()"
   ]
  },
  {
   "cell_type": "code",
   "execution_count": 36,
   "id": "75dec417",
   "metadata": {},
   "outputs": [
    {
     "data": {
      "image/png": "[encoded data removed]",
      "text/plain": [
       "<Figure size 1440x432 with 20 Axes>"
      ]
     },
     "metadata": {
      "needs_background": "light"
     },
     "output_type": "display_data"
    }
   ],
   "source": [
    "sns.color_palette(\"coolwarm\", as_cmap=True)\n",
    "fig, axes = plt.subplots(nrows=2, ncols=5, figsize=(20,6))\n",
    "for i in range(5):\n",
    "    for j in range(2):\n",
    "        sns.heatmap(matriz_mlp[i], annot=True, ax = axes[j][i])\n",
    "\n",
    "plt.tight_layout()"
   ]
  },
  {
   "cell_type": "markdown",
   "id": "234eef09",
   "metadata": {},
   "source": [
    "**Naive Bayes Resultados**"
   ]
  },
  {
   "cell_type": "code",
   "execution_count": 89,
   "id": "189988e6",
   "metadata": {},
   "outputs": [
    {
     "data": {
      "text/plain": [
       "(ACC    0.510508\n",
       " F1     0.503888\n",
       " dtype: float64,\n",
       " ACC    0.039690\n",
       " F1     0.039559\n",
       " dtype: float64)"
      ]
     },
     "execution_count": 89,
     "metadata": {},
     "output_type": "execute_result"
    }
   ],
   "source": [
    "df_nb.mean(),df_nb.std()"
   ]
  },
  {
   "cell_type": "markdown",
   "id": "6d9d307f",
   "metadata": {},
   "source": [
    "**Regressão Logistica Resutaldos**"
   ]
  },
  {
   "cell_type": "code",
   "execution_count": 90,
   "id": "aa4a6b20",
   "metadata": {},
   "outputs": [
    {
     "data": {
      "text/plain": [
       "(ACC    0.514458\n",
       " F1     0.512922\n",
       " dtype: float64,\n",
       " ACC    0.042153\n",
       " F1     0.042514\n",
       " dtype: float64)"
      ]
     },
     "execution_count": 90,
     "metadata": {},
     "output_type": "execute_result"
    }
   ],
   "source": [
    "df_reg_log.mean(),df_reg_log.std()"
   ]
  },
  {
   "cell_type": "code",
   "execution_count": null,
   "id": "9949c86c",
   "metadata": {},
   "outputs": [],
   "source": []
  },
  {
   "cell_type": "code",
   "execution_count": null,
   "id": "95c810dc",
   "metadata": {},
   "outputs": [],
   "source": []
  }
 ],
 "metadata": {
  "kernelspec": {
   "display_name": "Python 3 (ipykernel)",
   "language": "python",
   "name": "python3"
  },
  "language_info": {
   "codemirror_mode": {
    "name": "ipython",
    "version": 3
   },
   "file_extension": ".py",
   "mimetype": "text/x-python",
   "name": "python",
   "nbconvert_exporter": "python",
   "pygments_lexer": "ipython3",
   "version": "3.8.12"
  }
 },
 "nbformat": 4,
 "nbformat_minor": 5
}
